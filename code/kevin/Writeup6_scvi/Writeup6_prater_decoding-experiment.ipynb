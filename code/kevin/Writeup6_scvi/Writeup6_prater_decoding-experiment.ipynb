{
 "cells": [
  {
   "cell_type": "code",
   "execution_count": 1,
   "metadata": {},
   "outputs": [
    {
     "name": "stderr",
     "output_type": "stream",
     "text": [
      "/home/users/kzlin/miniconda3/envs/scVI/lib/python3.9/site-packages/tqdm/auto.py:21: TqdmWarning: IProgress not found. Please update jupyter and ipywidgets. See https://ipywidgets.readthedocs.io/en/stable/user_install.html\n",
      "  from .autonotebook import tqdm as notebook_tqdm\n",
      "Seed set to 0\n"
     ]
    },
    {
     "name": "stdout",
     "output_type": "stream",
     "text": [
      "Last run with scvi-tools version: 1.1.3\n"
     ]
    }
   ],
   "source": [
    "# scVI environment\n",
    "\n",
    "import anndata as ad\n",
    "import matplotlib.pyplot as plt\n",
    "import mudata as md\n",
    "import scanpy as sc\n",
    "import numpy as np\n",
    "import scvi\n",
    "import seaborn as sns\n",
    "import torch\n",
    "import gc\n",
    "import os\n",
    "import sys\n",
    "import pandas as pd\n",
    "\n",
    "# Set global settings\n",
    "scvi.settings.seed = 0\n",
    "sc.set_figure_params(figsize=(6, 6), frameon=False)\n",
    "sns.set_theme()\n",
    "torch.set_float32_matmul_precision(\"high\")\n",
    "\n",
    "print(\"Last run with scvi-tools version:\", scvi.__version__)"
   ]
  },
  {
   "cell_type": "code",
   "execution_count": 2,
   "metadata": {},
   "outputs": [
    {
     "name": "stdout",
     "output_type": "stream",
     "text": [
      "WARNING: adata.X seems to be already log-transformed.\n"
     ]
    },
    {
     "name": "stderr",
     "output_type": "stream",
     "text": [
      "/home/users/kzlin/miniconda3/envs/scVI/lib/python3.9/site-packages/scanpy/preprocessing/_highly_variable_genes.py:226: FutureWarning: The default of observed=False is deprecated and will be changed to True in a future version of pandas. Pass observed=False to retain current behavior or observed=True to adopt the future default and silence this warning.\n",
      "  disp_grouped = df.groupby(\"mean_bin\")[\"dispersions\"]\n",
      "/home/users/kzlin/miniconda3/envs/scVI/lib/python3.9/site-packages/scanpy/preprocessing/_highly_variable_genes.py:226: FutureWarning: The default of observed=False is deprecated and will be changed to True in a future version of pandas. Pass observed=False to retain current behavior or observed=True to adopt the future default and silence this warning.\n",
      "  disp_grouped = df.groupby(\"mean_bin\")[\"dispersions\"]\n",
      "/home/users/kzlin/miniconda3/envs/scVI/lib/python3.9/site-packages/scanpy/preprocessing/_highly_variable_genes.py:226: FutureWarning: The default of observed=False is deprecated and will be changed to True in a future version of pandas. Pass observed=False to retain current behavior or observed=True to adopt the future default and silence this warning.\n",
      "  disp_grouped = df.groupby(\"mean_bin\")[\"dispersions\"]\n",
      "/home/users/kzlin/miniconda3/envs/scVI/lib/python3.9/site-packages/scanpy/preprocessing/_highly_variable_genes.py:226: FutureWarning: The default of observed=False is deprecated and will be changed to True in a future version of pandas. Pass observed=False to retain current behavior or observed=True to adopt the future default and silence this warning.\n",
      "  disp_grouped = df.groupby(\"mean_bin\")[\"dispersions\"]\n",
      "/home/users/kzlin/miniconda3/envs/scVI/lib/python3.9/site-packages/scanpy/preprocessing/_highly_variable_genes.py:226: FutureWarning: The default of observed=False is deprecated and will be changed to True in a future version of pandas. Pass observed=False to retain current behavior or observed=True to adopt the future default and silence this warning.\n",
      "  disp_grouped = df.groupby(\"mean_bin\")[\"dispersions\"]\n",
      "/home/users/kzlin/miniconda3/envs/scVI/lib/python3.9/site-packages/scanpy/preprocessing/_highly_variable_genes.py:226: FutureWarning: The default of observed=False is deprecated and will be changed to True in a future version of pandas. Pass observed=False to retain current behavior or observed=True to adopt the future default and silence this warning.\n",
      "  disp_grouped = df.groupby(\"mean_bin\")[\"dispersions\"]\n",
      "/home/users/kzlin/miniconda3/envs/scVI/lib/python3.9/site-packages/scanpy/preprocessing/_highly_variable_genes.py:226: FutureWarning: The default of observed=False is deprecated and will be changed to True in a future version of pandas. Pass observed=False to retain current behavior or observed=True to adopt the future default and silence this warning.\n",
      "  disp_grouped = df.groupby(\"mean_bin\")[\"dispersions\"]\n",
      "/home/users/kzlin/miniconda3/envs/scVI/lib/python3.9/site-packages/scanpy/preprocessing/_highly_variable_genes.py:226: FutureWarning: The default of observed=False is deprecated and will be changed to True in a future version of pandas. Pass observed=False to retain current behavior or observed=True to adopt the future default and silence this warning.\n",
      "  disp_grouped = df.groupby(\"mean_bin\")[\"dispersions\"]\n",
      "/home/users/kzlin/miniconda3/envs/scVI/lib/python3.9/site-packages/scanpy/preprocessing/_highly_variable_genes.py:226: FutureWarning: The default of observed=False is deprecated and will be changed to True in a future version of pandas. Pass observed=False to retain current behavior or observed=True to adopt the future default and silence this warning.\n",
      "  disp_grouped = df.groupby(\"mean_bin\")[\"dispersions\"]\n",
      "/home/users/kzlin/miniconda3/envs/scVI/lib/python3.9/site-packages/scanpy/preprocessing/_highly_variable_genes.py:226: FutureWarning: The default of observed=False is deprecated and will be changed to True in a future version of pandas. Pass observed=False to retain current behavior or observed=True to adopt the future default and silence this warning.\n",
      "  disp_grouped = df.groupby(\"mean_bin\")[\"dispersions\"]\n",
      "/home/users/kzlin/miniconda3/envs/scVI/lib/python3.9/site-packages/scanpy/preprocessing/_highly_variable_genes.py:226: FutureWarning: The default of observed=False is deprecated and will be changed to True in a future version of pandas. Pass observed=False to retain current behavior or observed=True to adopt the future default and silence this warning.\n",
      "  disp_grouped = df.groupby(\"mean_bin\")[\"dispersions\"]\n",
      "/home/users/kzlin/miniconda3/envs/scVI/lib/python3.9/site-packages/scanpy/preprocessing/_highly_variable_genes.py:226: FutureWarning: The default of observed=False is deprecated and will be changed to True in a future version of pandas. Pass observed=False to retain current behavior or observed=True to adopt the future default and silence this warning.\n",
      "  disp_grouped = df.groupby(\"mean_bin\")[\"dispersions\"]\n",
      "/home/users/kzlin/miniconda3/envs/scVI/lib/python3.9/site-packages/scanpy/preprocessing/_highly_variable_genes.py:226: FutureWarning: The default of observed=False is deprecated and will be changed to True in a future version of pandas. Pass observed=False to retain current behavior or observed=True to adopt the future default and silence this warning.\n",
      "  disp_grouped = df.groupby(\"mean_bin\")[\"dispersions\"]\n",
      "/home/users/kzlin/miniconda3/envs/scVI/lib/python3.9/site-packages/scanpy/preprocessing/_highly_variable_genes.py:226: FutureWarning: The default of observed=False is deprecated and will be changed to True in a future version of pandas. Pass observed=False to retain current behavior or observed=True to adopt the future default and silence this warning.\n",
      "  disp_grouped = df.groupby(\"mean_bin\")[\"dispersions\"]\n",
      "/home/users/kzlin/miniconda3/envs/scVI/lib/python3.9/site-packages/scanpy/preprocessing/_highly_variable_genes.py:226: FutureWarning: The default of observed=False is deprecated and will be changed to True in a future version of pandas. Pass observed=False to retain current behavior or observed=True to adopt the future default and silence this warning.\n",
      "  disp_grouped = df.groupby(\"mean_bin\")[\"dispersions\"]\n",
      "/home/users/kzlin/miniconda3/envs/scVI/lib/python3.9/site-packages/scanpy/preprocessing/_highly_variable_genes.py:226: FutureWarning: The default of observed=False is deprecated and will be changed to True in a future version of pandas. Pass observed=False to retain current behavior or observed=True to adopt the future default and silence this warning.\n",
      "  disp_grouped = df.groupby(\"mean_bin\")[\"dispersions\"]\n",
      "/home/users/kzlin/miniconda3/envs/scVI/lib/python3.9/site-packages/scanpy/preprocessing/_highly_variable_genes.py:226: FutureWarning: The default of observed=False is deprecated and will be changed to True in a future version of pandas. Pass observed=False to retain current behavior or observed=True to adopt the future default and silence this warning.\n",
      "  disp_grouped = df.groupby(\"mean_bin\")[\"dispersions\"]\n",
      "/home/users/kzlin/miniconda3/envs/scVI/lib/python3.9/site-packages/scanpy/preprocessing/_highly_variable_genes.py:226: FutureWarning: The default of observed=False is deprecated and will be changed to True in a future version of pandas. Pass observed=False to retain current behavior or observed=True to adopt the future default and silence this warning.\n",
      "  disp_grouped = df.groupby(\"mean_bin\")[\"dispersions\"]\n",
      "/home/users/kzlin/miniconda3/envs/scVI/lib/python3.9/site-packages/scanpy/preprocessing/_highly_variable_genes.py:226: FutureWarning: The default of observed=False is deprecated and will be changed to True in a future version of pandas. Pass observed=False to retain current behavior or observed=True to adopt the future default and silence this warning.\n",
      "  disp_grouped = df.groupby(\"mean_bin\")[\"dispersions\"]\n",
      "/home/users/kzlin/miniconda3/envs/scVI/lib/python3.9/site-packages/scanpy/preprocessing/_highly_variable_genes.py:226: FutureWarning: The default of observed=False is deprecated and will be changed to True in a future version of pandas. Pass observed=False to retain current behavior or observed=True to adopt the future default and silence this warning.\n",
      "  disp_grouped = df.groupby(\"mean_bin\")[\"dispersions\"]\n",
      "/home/users/kzlin/miniconda3/envs/scVI/lib/python3.9/site-packages/scanpy/preprocessing/_highly_variable_genes.py:226: FutureWarning: The default of observed=False is deprecated and will be changed to True in a future version of pandas. Pass observed=False to retain current behavior or observed=True to adopt the future default and silence this warning.\n",
      "  disp_grouped = df.groupby(\"mean_bin\")[\"dispersions\"]\n",
      "/home/users/kzlin/miniconda3/envs/scVI/lib/python3.9/site-packages/scanpy/preprocessing/_highly_variable_genes.py:226: FutureWarning: The default of observed=False is deprecated and will be changed to True in a future version of pandas. Pass observed=False to retain current behavior or observed=True to adopt the future default and silence this warning.\n",
      "  disp_grouped = df.groupby(\"mean_bin\")[\"dispersions\"]\n",
      "/home/users/kzlin/miniconda3/envs/scVI/lib/python3.9/site-packages/scanpy/preprocessing/_highly_variable_genes.py:508: FutureWarning: The provided callable <function nanmean at 0x7fc5c428e1f0> is currently using SeriesGroupBy.mean. In a future version of pandas, the provided callable will be used directly. To keep current behavior pass the string \"mean\" instead.\n",
      "  df = df.groupby(\"gene\").agg(\n",
      "/home/users/kzlin/miniconda3/envs/scVI/lib/python3.9/site-packages/scanpy/preprocessing/_highly_variable_genes.py:508: FutureWarning: The provided callable <function nanmean at 0x7fc5c428e1f0> is currently using SeriesGroupBy.mean. In a future version of pandas, the provided callable will be used directly. To keep current behavior pass the string \"mean\" instead.\n",
      "  df = df.groupby(\"gene\").agg(\n",
      "/home/users/kzlin/miniconda3/envs/scVI/lib/python3.9/site-packages/scanpy/preprocessing/_highly_variable_genes.py:508: FutureWarning: The provided callable <function nansum at 0x7fc5c4285d30> is currently using SeriesGroupBy.sum. In a future version of pandas, the provided callable will be used directly. To keep current behavior pass the string \"sum\" instead.\n",
      "  df = df.groupby(\"gene\").agg(\n"
     ]
    }
   ],
   "source": [
    "adata = ad.read_h5ad(\"/home/users/kzlin/kzlinlab/projects/subject-de/out/kevin/Writeup6/Writeup6_prater_scvi2_anndata.h5ad\")\n",
    "\n",
    "adata.obs[\"SeqBatch\"] = adata.obs[\"SeqBatch\"].astype('category')\n",
    "adata.obs[\"Sex\"] = adata.obs[\"Sex\"].astype('category')\n",
    "adata.obs[\"Race\"] = adata.obs[\"Race\"].astype('category')\n",
    "adata.obs[\"genotype_APOE\"] = adata.obs[\"genotype_APOE\"].astype('category')\n",
    "adata.obs[\"CERAD\"] = adata.obs[\"CERAD\"].astype('category')\n",
    "\n",
    "# adding raw counts for referring to it in the future\n",
    "adata.layers[\"counts\"] = adata.X.copy()\n",
    "\n",
    "# Normalizing to median total counts\n",
    "sc.pp.normalize_total(adata)\n",
    "# Logarithmize the data\n",
    "sc.pp.log1p(adata)\n",
    "\n",
    "sc.pp.highly_variable_genes(\n",
    "    adata,\n",
    "    n_top_genes=2000,\n",
    "    batch_key=\"Pt_ID\",\n",
    "    subset=True\n",
    ")\n",
    "\n",
    "pmi_replacement_values = {\n",
    "    'D:1': 5.08,\n",
    "    'D:10': 3.33,\n",
    "    'D:3': 5.08,\n",
    "    'D:15': 6.97\n",
    "}\n",
    "\n",
    "# Replace the NA values in the PMI column with the specified values\n",
    "for pt_id, new_pmi in pmi_replacement_values.items():\n",
    "    adata.obs.loc[adata.obs['Pt_ID'] == pt_id, 'PMI'] = new_pmi\n"
   ]
  },
  {
   "cell_type": "code",
   "execution_count": 3,
   "metadata": {},
   "outputs": [
    {
     "name": "stdout",
     "output_type": "stream",
     "text": [
      "\u001b[34mINFO    \u001b[0m File                                                                                                      \n",
      "         \u001b[35m/home/users/kzlin/kzlinlab/projects/subject-de/out/kevin/Writeup6/Writeup6_prater_scvi2-model/\u001b[0m\u001b[95mmodel.pt\u001b[0m    \n",
      "         already downloaded                                                                                        \n"
     ]
    },
    {
     "name": "stderr",
     "output_type": "stream",
     "text": [
      "/home/users/kzlin/miniconda3/envs/scVI/lib/python3.9/site-packages/lightning/fabric/plugins/environments/slurm.py:191: The `srun` command is available on your system but is not used. HINT: If your intention is to run Lightning on SLURM, prepend your python command with `srun` like so: srun python /home/users/kzlin/miniconda3/envs/scVI/lib/python3.9 ...\n",
      "/home/users/kzlin/miniconda3/envs/scVI/lib/python3.9/site-packages/scvi/data/fields/_base_field.py:64: UserWarning: adata.layers[counts] does not contain unnormalized count data. Are you sure this is what you want?\n",
      "  self.validate_field(adata)\n"
     ]
    }
   ],
   "source": [
    "# https://docs.scvi-tools.org/en/stable/tutorials/notebooks/quick_start/api_overview.html\n",
    "model = scvi.model.SCVI.load(\"/home/users/kzlin/kzlinlab/projects/subject-de/out/kevin/Writeup6/Writeup6_prater_scvi2-model\", \n",
    "                             adata)"
   ]
  },
  {
   "cell_type": "code",
   "execution_count": 4,
   "metadata": {},
   "outputs": [
    {
     "name": "stdout",
     "output_type": "stream",
     "text": [
      "Sex\n",
      "F    91477\n",
      "M    35890\n",
      "Name: count, dtype: int64\n",
      "genotype_APOE\n",
      "3,3    75018\n",
      "3,4    35753\n",
      "4,4     9585\n",
      "2,3     7011\n",
      "Name: count, dtype: int64\n"
     ]
    }
   ],
   "source": [
    "print(model._adata.obs[\"Sex\"].value_counts())\n",
    "print(model._adata.obs[\"genotype_APOE\"].value_counts())"
   ]
  },
  {
   "cell_type": "code",
   "execution_count": 25,
   "metadata": {},
   "outputs": [],
   "source": [
    "# Extract the continuous and categorical covariates from the first 10 cells\n",
    "continuous_covariates = [\"percent.mito\", \"coded_Age\", \"nCount_RNA\", \"FreshBrainWeight\", \"PMI\"]\n",
    "categorical_covariates = [\"Sex\", \"Race\", \"genotype_APOE\", \"CERAD\", \"SeqBatch\"]\n",
    "\n",
    "# Prepare the continuous covariates tensor\n",
    "extra_continuous_covs_np = adata.obs[continuous_covariates].values\n",
    "extra_continuous_covs_tensor = torch.from_numpy(extra_continuous_covs_np).float()\n",
    "\n",
    "# Prepare the categorical covariates tensors\n",
    "sex_tensor = torch.tensor(adata.obs['Sex'].astype('category').cat.codes.values, dtype=torch.long).squeeze()\n",
    "race_tensor = torch.tensor(adata.obs['Race'].astype('category').cat.codes.values, dtype=torch.long).squeeze()\n",
    "genotype_apoe_tensor = torch.tensor(adata.obs['genotype_APOE'].astype('category').cat.codes.values, dtype=torch.long).squeeze()\n",
    "cerad_tensor = torch.tensor(adata.obs['CERAD'].astype('category').cat.codes.values, dtype=torch.long).squeeze()\n",
    "seqbatch_tensor = torch.tensor(adata.obs['SeqBatch'].astype('category').cat.codes.values, dtype=torch.long).squeeze()\n",
    "\n"
   ]
  },
  {
   "cell_type": "code",
   "execution_count": 26,
   "metadata": {},
   "outputs": [],
   "source": [
    "\n",
    "# Extract the latent representation for the first 10 cells\n",
    "latent_representation = model.get_latent_representation(adata)\n",
    "latent_representation_tensor = torch.tensor(latent_representation).float()\n"
   ]
  },
  {
   "cell_type": "code",
   "execution_count": 27,
   "metadata": {},
   "outputs": [],
   "source": [
    "# Ensure all tensors are on the same device (e.g., CPU or GPU)\n",
    "device = torch.device(\"cuda\" if torch.cuda.is_available() else \"cpu\")\n",
    "latent_representation_tensor = latent_representation_tensor.to(device)\n",
    "extra_continuous_covs_tensor = extra_continuous_covs_tensor.to(device)\n",
    "sex_tensor = sex_tensor.to(device)\n",
    "race_tensor = race_tensor.to(device)\n",
    "genotype_apoe_tensor = genotype_apoe_tensor.to(device)\n",
    "cerad_tensor = cerad_tensor.to(device)\n",
    "seqbatch_tensor = seqbatch_tensor.to(device)"
   ]
  },
  {
   "cell_type": "code",
   "execution_count": 28,
   "metadata": {},
   "outputs": [],
   "source": [
    "# Concatenate the latent representation with the continuous covariates\n",
    "decoder_input = torch.cat([latent_representation_tensor, extra_continuous_covs_tensor], dim=1)"
   ]
  },
  {
   "cell_type": "code",
   "execution_count": 31,
   "metadata": {},
   "outputs": [
    {
     "name": "stdout",
     "output_type": "stream",
     "text": [
      "Expected number of categories for each categorical input:\n",
      "Categorical input 1: 2\n",
      "Categorical input 2: 2\n",
      "Categorical input 3: 4\n",
      "Categorical input 4: 4\n",
      "Categorical input 5: 4\n",
      "Shape of seqbatch_tensor: torch.Size([127367])\n",
      "Shape of sex_tensor: torch.Size([127367])\n",
      "Shape of race_tensor: torch.Size([127367])\n",
      "Shape of genotype_apoe_tensor: torch.Size([127367])\n",
      "Shape of cerad_tensor: torch.Size([127367])\n",
      "Unique values in seqbatch_tensor: tensor([0, 1])\n",
      "Unique values in sex_tensor: tensor([0, 1])\n",
      "Unique values in race_tensor: tensor([0, 1, 2, 3])\n",
      "Unique values in genotype_apoe_tensor: tensor([0, 1, 2, 3])\n",
      "Unique values in cerad_tensor: tensor([0, 1, 2, 3])\n"
     ]
    }
   ],
   "source": [
    "# Print the expected number of categories for each categorical input\n",
    "print(\"Expected number of categories for each categorical input:\")\n",
    "for idx, n_cat in enumerate(model.module.decoder.px_decoder.n_cat_list):\n",
    "    print(f\"Categorical input {idx + 1}: {n_cat}\")\n",
    "\n",
    "# Print the shape of the categorical tensors being passed\n",
    "print(f\"Shape of seqbatch_tensor: {seqbatch_tensor.shape}\")\n",
    "print(f\"Shape of sex_tensor: {sex_tensor.shape}\")\n",
    "print(f\"Shape of race_tensor: {race_tensor.shape}\")\n",
    "print(f\"Shape of genotype_apoe_tensor: {genotype_apoe_tensor.shape}\")\n",
    "print(f\"Shape of cerad_tensor: {cerad_tensor.shape}\")\n",
    "\n",
    "# Check unique values for each categorical tensor\n",
    "print(f\"Unique values in seqbatch_tensor: {seqbatch_tensor.unique()}\")\n",
    "print(f\"Unique values in sex_tensor: {sex_tensor.unique()}\")\n",
    "print(f\"Unique values in race_tensor: {race_tensor.unique()}\")\n",
    "print(f\"Unique values in genotype_apoe_tensor: {genotype_apoe_tensor.unique()}\")\n",
    "print(f\"Unique values in cerad_tensor: {cerad_tensor.unique()}\")\n"
   ]
  },
  {
   "cell_type": "code",
   "execution_count": 29,
   "metadata": {},
   "outputs": [
    {
     "name": "stdout",
     "output_type": "stream",
     "text": [
      "Expected number of categories for each categorical input:\n",
      "Categorical input 1: 2\n",
      "Categorical input 2: 2\n",
      "Categorical input 3: 4\n",
      "Categorical input 4: 4\n",
      "Categorical input 5: 4\n",
      "Unique values in seqbatch_tensor: tensor([0, 1])\n",
      "Unique values in sex_tensor: tensor([0, 1])\n",
      "Unique values in race_tensor: tensor([0, 1, 2, 3])\n",
      "Unique values in genotype_apoe_tensor: tensor([0, 1, 2, 3])\n",
      "Unique values in cerad_tensor: tensor([0, 1, 2, 3])\n"
     ]
    }
   ],
   "source": [
    "# Print the expected number of categories for each categorical input\n",
    "print(\"Expected number of categories for each categorical input:\")\n",
    "for idx, n_cat in enumerate(model.module.decoder.px_decoder.n_cat_list):\n",
    "    print(f\"Categorical input {idx + 1}: {n_cat}\")\n",
    "\n",
    "# Check unique values for each categorical tensor\n",
    "print(f\"Unique values in seqbatch_tensor: {seqbatch_tensor.unique()}\")\n",
    "print(f\"Unique values in sex_tensor: {sex_tensor.unique()}\")\n",
    "print(f\"Unique values in race_tensor: {race_tensor.unique()}\")\n",
    "print(f\"Unique values in genotype_apoe_tensor: {genotype_apoe_tensor.unique()}\")\n",
    "print(f\"Unique values in cerad_tensor: {cerad_tensor.unique()}\")\n"
   ]
  },
  {
   "cell_type": "code",
   "execution_count": 34,
   "metadata": {},
   "outputs": [],
   "source": [
    "import torch.nn.functional as F\n",
    "\n",
    "# One-hot encode the categorical covariates\n",
    "sex_tensor_one_hot = F.one_hot(sex_tensor, num_classes=2).float()\n",
    "race_tensor_one_hot = F.one_hot(race_tensor, num_classes=4).float()\n",
    "genotype_apoe_tensor_one_hot = F.one_hot(genotype_apoe_tensor, num_classes=4).float()\n",
    "cerad_tensor_one_hot = F.one_hot(cerad_tensor, num_classes=4).float()\n",
    "seqbatch_tensor_one_hot = F.one_hot(seqbatch_tensor, num_classes=2).float()"
   ]
  },
  {
   "cell_type": "code",
   "execution_count": 35,
   "metadata": {},
   "outputs": [
    {
     "data": {
      "text/plain": [
       "tensor([[1., 0.],\n",
       "        [1., 0.],\n",
       "        [1., 0.],\n",
       "        ...,\n",
       "        [0., 1.],\n",
       "        [0., 1.],\n",
       "        [0., 1.]])"
      ]
     },
     "execution_count": 35,
     "metadata": {},
     "output_type": "execute_result"
    }
   ],
   "source": [
    "seqbatch_tensor_one_hot"
   ]
  },
  {
   "cell_type": "code",
   "execution_count": 36,
   "metadata": {},
   "outputs": [
    {
     "data": {
      "text/plain": [
       "2"
      ]
     },
     "execution_count": 36,
     "metadata": {},
     "output_type": "execute_result"
    }
   ],
   "source": [
    "seqbatch_tensor_one_hot.size(1)"
   ]
  },
  {
   "cell_type": "code",
   "execution_count": 37,
   "metadata": {},
   "outputs": [],
   "source": [
    "predicted_gene_expression = model.module.decoder.px_decoder(\n",
    "    decoder_input, \n",
    "    seqbatch_tensor_one_hot,  # Note: SeqBatch should be passed first if it was the first categorical covariate specified\n",
    "    sex_tensor_one_hot, \n",
    "    race_tensor_one_hot, \n",
    "    genotype_apoe_tensor_one_hot, \n",
    "    cerad_tensor_one_hot\n",
    ")"
   ]
  },
  {
   "cell_type": "code",
   "execution_count": null,
   "metadata": {},
   "outputs": [],
   "source": [
    "genotype_apoe_tensor"
   ]
  },
  {
   "cell_type": "code",
   "execution_count": null,
   "metadata": {},
   "outputs": [],
   "source": [
    "import inspect\n",
    "\n",
    "# Print the signature of the forward method of px_decoder\n",
    "print(inspect.signature(model.module.decoder.px_decoder.forward))\n",
    "\n",
    "# # Or, you can directly inspect the entire method if it's not too large\n",
    "# print(inspect.getsource(model.module.decoder.px_decoder.forward))"
   ]
  },
  {
   "cell_type": "markdown",
   "metadata": {},
   "source": [
    "Preparing to decode"
   ]
  },
  {
   "cell_type": "code",
   "execution_count": null,
   "metadata": {},
   "outputs": [],
   "source": [
    "type(model)"
   ]
  },
  {
   "cell_type": "code",
   "execution_count": null,
   "metadata": {},
   "outputs": [],
   "source": [
    "model_attributes = model.__dict__\n",
    "for key, value in model_attributes.items():\n",
    "    print(f\"{key}: {value}\")"
   ]
  },
  {
   "cell_type": "markdown",
   "metadata": {},
   "source": [
    "Set all the covariates to be the ones I want"
   ]
  },
  {
   "cell_type": "code",
   "execution_count": null,
   "metadata": {},
   "outputs": [],
   "source": [
    "adata"
   ]
  },
  {
   "cell_type": "code",
   "execution_count": null,
   "metadata": {},
   "outputs": [],
   "source": [
    "categorical_covariates = [\"Sex\", \"Race\", \"SeqBatch\", \"genotype_APOE\", \"CERAD\"]\n",
    "continuous_covariates = [\"percent.mito\", \"coded_Age\", \"nCount_RNA\", \"FreshBrainWeight\", \"PMI\"]"
   ]
  },
  {
   "cell_type": "code",
   "execution_count": null,
   "metadata": {},
   "outputs": [],
   "source": [
    "# following https://discourse.scverse.org/t/using-categorical-covariate-keys-when-sampling-or-generating-normalised-expression/1493\n",
    "# manually set the mode and mean\n",
    "# Store the original categories\n",
    "original_categories = {covariate: adata.obs[covariate].cat.categories for covariate in categorical_covariates}\n",
    "\n",
    "# Calculate mode for categorical covariates\n",
    "for covariate in categorical_covariates:\n",
    "    mode_value = adata.obs[covariate].mode()[0]\n",
    "    adata.obs[covariate] = mode_value\n",
    "    # Ensure the categorical variable type and categories are retained\n",
    "    adata.obs[covariate] = adata.obs[covariate].astype('category')\n",
    "    adata.obs[covariate] = adata.obs[covariate].cat.set_categories(original_categories[covariate])\n",
    "\n",
    "# Calculate mean for continuous covariates\n",
    "for covariate in continuous_covariates:\n",
    "    mean_value = adata.obs[covariate].mean()\n",
    "    adata.obs[covariate] = mean_value\n"
   ]
  },
  {
   "cell_type": "code",
   "execution_count": null,
   "metadata": {},
   "outputs": [],
   "source": [
    "print(adata.obs['Sex'].value_counts())\n",
    "print(model._adata.obs[\"Sex\"].value_counts())"
   ]
  },
  {
   "cell_type": "code",
   "execution_count": null,
   "metadata": {},
   "outputs": [],
   "source": [
    "# Let's just try for 10 cells\n",
    "latent_representation = adata.obsm[\"X_scVI\"][0:10,]\n",
    "latent_representation"
   ]
  },
  {
   "cell_type": "code",
   "execution_count": null,
   "metadata": {},
   "outputs": [],
   "source": [
    "extra_categorical_covs = adata.obs[categorical_covariates].iloc[:10]\n",
    "extra_continuous_covs = adata.obs[continuous_covariates].iloc[:10]\n",
    "print(extra_categorical_covs)\n",
    "print(extra_continuous_covs)"
   ]
  },
  {
   "cell_type": "code",
   "execution_count": null,
   "metadata": {},
   "outputs": [],
   "source": [
    "print(latent_representation.shape)\n",
    "print(extra_continuous_covs.shape)\n",
    "print(extra_categorical_covs.shape)"
   ]
  },
  {
   "cell_type": "code",
   "execution_count": null,
   "metadata": {},
   "outputs": [],
   "source": [
    "type(extra_categorical_covs)"
   ]
  },
  {
   "cell_type": "code",
   "execution_count": null,
   "metadata": {},
   "outputs": [],
   "source": [
    "# Convert DataFrames to NumPy arrays\n",
    "extra_continuous_covs_np = extra_continuous_covs.values\n",
    "\n",
    "# Encode categorical variables using one-hot encoding\n",
    "extra_categorical_covs_encoded = pd.get_dummies(extra_categorical_covs, columns=extra_categorical_covs.columns)\n",
    "\n",
    "# Convert the encoded DataFrame to a NumPy array\n",
    "extra_categorical_covs_np = extra_categorical_covs_encoded.values"
   ]
  },
  {
   "cell_type": "code",
   "execution_count": null,
   "metadata": {},
   "outputs": [],
   "source": [
    "# Convert the NumPy arrays to PyTorch tensors\n",
    "extra_continuous_covs_tensor = torch.from_numpy(extra_continuous_covs_np).float()\n",
    "extra_categorical_covs_tensor = torch.from_numpy(extra_categorical_covs_np).float()\n",
    "\n",
    "# Concatenate the latent representation with the covariates\n",
    "decoder_input = torch.cat([torch.from_numpy(latent_representation), \n",
    "                           extra_continuous_covs_tensor], dim=1)\n"
   ]
  },
  {
   "cell_type": "code",
   "execution_count": null,
   "metadata": {},
   "outputs": [],
   "source": [
    "decoder_input"
   ]
  },
  {
   "cell_type": "code",
   "execution_count": null,
   "metadata": {},
   "outputs": [],
   "source": [
    "decoder_input.shape"
   ]
  },
  {
   "cell_type": "code",
   "execution_count": null,
   "metadata": {},
   "outputs": [],
   "source": [
    "sex_tensor = torch.tensor(adata.obs['Sex'].astype('category').cat.codes.values[:10]).to(extra_continuous_covs_tensor.device)\n",
    "race_tensor = torch.tensor(adata.obs['Race'].astype('category').cat.codes.values[:10]).to(extra_continuous_covs_tensor.device)\n",
    "genotype_apoe_tensor = torch.tensor(adata.obs['genotype_APOE'].astype('category').cat.codes.values[:10]).to(extra_continuous_covs_tensor.device)\n",
    "cerad_tensor = torch.tensor(adata.obs['CERAD'].astype('category').cat.codes.values[:10]).to(extra_continuous_covs_tensor.device)"
   ]
  },
  {
   "cell_type": "code",
   "execution_count": null,
   "metadata": {},
   "outputs": [],
   "source": [
    "# Print the dimensions to verify\n",
    "print(f\"sex_tensor shape: {sex_tensor.shape}\")\n",
    "print(f\"race_tensor shape: {race_tensor.shape}\")\n",
    "print(f\"genotype_apoe_tensor shape: {genotype_apoe_tensor.shape}\")\n",
    "print(f\"cerad_tensor shape: {cerad_tensor.shape}\")"
   ]
  },
  {
   "cell_type": "code",
   "execution_count": null,
   "metadata": {},
   "outputs": [],
   "source": [
    "sex_tensor.shape"
   ]
  },
  {
   "cell_type": "code",
   "execution_count": null,
   "metadata": {},
   "outputs": [],
   "source": [
    "# now get the seqBatch\n",
    "SeqBatch_tensor = torch.tensor(adata.obs['SeqBatch'].astype('category').cat.codes.values[:10])\n",
    "SeqBatch_tensor"
   ]
  },
  {
   "cell_type": "code",
   "execution_count": null,
   "metadata": {},
   "outputs": [],
   "source": [
    "decoder_input.shape"
   ]
  },
  {
   "cell_type": "code",
   "execution_count": null,
   "metadata": {},
   "outputs": [],
   "source": [
    "predicted_gene_expression = model.module.decoder.px_decoder(decoder_input, SeqBatch_tensor, sex_tensor, race_tensor, genotype_apoe_tensor, cerad_tensor)"
   ]
  },
  {
   "cell_type": "code",
   "execution_count": null,
   "metadata": {},
   "outputs": [],
   "source": [
    "model.module.decoder.px_decoder.n_cat_list # uh oh...."
   ]
  },
  {
   "cell_type": "code",
   "execution_count": null,
   "metadata": {},
   "outputs": [],
   "source": [
    "px_scale, px_r, px_rate, px_dropout = self.decoder(\n",
    "    self.dispersion,\n",
    "    decoder_input,\n",
    "    size_factor,\n",
    "    batch_index,\n",
    "    *categorical_input,\n",
    "    y)\n"
   ]
  }
 ],
 "metadata": {
  "kernelspec": {
   "display_name": "scVI",
   "language": "python",
   "name": "python3"
  },
  "language_info": {
   "codemirror_mode": {
    "name": "ipython",
    "version": 3
   },
   "file_extension": ".py",
   "mimetype": "text/x-python",
   "name": "python",
   "nbconvert_exporter": "python",
   "pygments_lexer": "ipython3",
   "version": "3.9.undefined"
  }
 },
 "nbformat": 4,
 "nbformat_minor": 2
}
