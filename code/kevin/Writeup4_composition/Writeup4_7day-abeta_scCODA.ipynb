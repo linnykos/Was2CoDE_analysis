{
 "cells": [
  {
   "cell_type": "code",
   "execution_count": 1,
   "metadata": {},
   "outputs": [],
   "source": [
    "# Using the \"scCODA\" conda environment\n",
    "# https://sccoda.readthedocs.io/en/latest/getting_started.html\n",
    "# pip install sccoda\n",
    "# pip install tensorflow-probability\n",
    "# pip install tensorflow\n",
    "# pip install tf-keras\n",
    "\n",
    "# Setup\n",
    "import importlib\n",
    "import warnings\n",
    "warnings.filterwarnings(\"ignore\")\n",
    "\n",
    "import pandas as pd\n",
    "import pickle as pkl\n",
    "import matplotlib.pyplot as plt\n",
    "import arviz as az\n",
    "import scanpy as sc\n",
    "\n",
    "from sccoda.util import comp_ana as mod\n",
    "from sccoda.util import cell_composition_data as dat\n",
    "from sccoda.util import data_visualization as viz\n",
    "\n",
    "import sccoda.datasets as scd\n",
    "import anndata as ad"
   ]
  },
  {
   "cell_type": "code",
   "execution_count": 2,
   "metadata": {},
   "outputs": [
    {
     "name": "stdout",
     "output_type": "stream",
     "text": [
      "               SampleID  cluster_1  cluster_2  cluster_3  cluster_4  \\\n",
      "0  het_7d_abeta_br1_tr2       1660       1732        448        447   \n",
      "1        het_ut_br1_tr1        958       1046        289        402   \n",
      "2        het_ut_br1_tr2       1796       1650        394        319   \n",
      "3   wt_7d_abeta_br2_tr1       1201        873        721        416   \n",
      "4   wt_7d_abeta_br2_tr2       1396       1208        390        509   \n",
      "5         wt_ut_br2_tr1        897        708        536        593   \n",
      "6         wt_ut_br2_tr2       1499       1143        365        291   \n",
      "\n",
      "   cluster_5  cluster_6  cluster_7  cluster_8  cluster_9  cluster_10  \n",
      "0        499         51        195        227         45         124  \n",
      "1        231         39        100        157         42          58  \n",
      "2        540         61        204        196         57         109  \n",
      "3        290        677        382        313        254         152  \n",
      "4        286        282        328        262        159         121  \n",
      "5        227        569        342        225        188          88  \n",
      "6        235        368        287        268        179         104  \n"
     ]
    }
   ],
   "source": [
    "# Load data\n",
    "\n",
    "cell_counts = pd.read_csv(\"/Users/kevinlin/Library/CloudStorage/Dropbox/Collaboration-and-People/tati/out/kevin/Writeup4/Writeup4_7day-abeta_composition.csv\")\n",
    "\n",
    "print(cell_counts)"
   ]
  },
  {
   "cell_type": "code",
   "execution_count": 3,
   "metadata": {},
   "outputs": [
    {
     "name": "stdout",
     "output_type": "stream",
     "text": [
      "het_7d_abeta\n"
     ]
    }
   ],
   "source": [
    "string = \"het_7d_abeta_br1_tr2\"\n",
    "parts = string.split('_')[:-2]  # Keep all parts except the second-to-last and last\n",
    "result = '_'.join(parts)\n",
    "print(result)"
   ]
  },
  {
   "cell_type": "code",
   "execution_count": 5,
   "metadata": {},
   "outputs": [
    {
     "data": {
      "text/html": [
       "<div>\n",
       "<style scoped>\n",
       "    .dataframe tbody tr th:only-of-type {\n",
       "        vertical-align: middle;\n",
       "    }\n",
       "\n",
       "    .dataframe tbody tr th {\n",
       "        vertical-align: top;\n",
       "    }\n",
       "\n",
       "    .dataframe thead th {\n",
       "        text-align: right;\n",
       "    }\n",
       "</style>\n",
       "<table border=\"1\" class=\"dataframe\">\n",
       "  <thead>\n",
       "    <tr style=\"text-align: right;\">\n",
       "      <th></th>\n",
       "      <th>SampleID</th>\n",
       "      <th>cluster_1</th>\n",
       "      <th>cluster_2</th>\n",
       "      <th>cluster_3</th>\n",
       "      <th>cluster_4</th>\n",
       "      <th>cluster_5</th>\n",
       "      <th>cluster_6</th>\n",
       "      <th>cluster_7</th>\n",
       "      <th>cluster_8</th>\n",
       "      <th>cluster_9</th>\n",
       "      <th>cluster_10</th>\n",
       "    </tr>\n",
       "  </thead>\n",
       "  <tbody>\n",
       "    <tr>\n",
       "      <th>0</th>\n",
       "      <td>het_7d_abeta</td>\n",
       "      <td>1660</td>\n",
       "      <td>1732</td>\n",
       "      <td>448</td>\n",
       "      <td>447</td>\n",
       "      <td>499</td>\n",
       "      <td>51</td>\n",
       "      <td>195</td>\n",
       "      <td>227</td>\n",
       "      <td>45</td>\n",
       "      <td>124</td>\n",
       "    </tr>\n",
       "    <tr>\n",
       "      <th>1</th>\n",
       "      <td>het_ut</td>\n",
       "      <td>958</td>\n",
       "      <td>1046</td>\n",
       "      <td>289</td>\n",
       "      <td>402</td>\n",
       "      <td>231</td>\n",
       "      <td>39</td>\n",
       "      <td>100</td>\n",
       "      <td>157</td>\n",
       "      <td>42</td>\n",
       "      <td>58</td>\n",
       "    </tr>\n",
       "    <tr>\n",
       "      <th>2</th>\n",
       "      <td>het_ut</td>\n",
       "      <td>1796</td>\n",
       "      <td>1650</td>\n",
       "      <td>394</td>\n",
       "      <td>319</td>\n",
       "      <td>540</td>\n",
       "      <td>61</td>\n",
       "      <td>204</td>\n",
       "      <td>196</td>\n",
       "      <td>57</td>\n",
       "      <td>109</td>\n",
       "    </tr>\n",
       "    <tr>\n",
       "      <th>3</th>\n",
       "      <td>wt_7d_abeta</td>\n",
       "      <td>1201</td>\n",
       "      <td>873</td>\n",
       "      <td>721</td>\n",
       "      <td>416</td>\n",
       "      <td>290</td>\n",
       "      <td>677</td>\n",
       "      <td>382</td>\n",
       "      <td>313</td>\n",
       "      <td>254</td>\n",
       "      <td>152</td>\n",
       "    </tr>\n",
       "    <tr>\n",
       "      <th>4</th>\n",
       "      <td>wt_7d_abeta</td>\n",
       "      <td>1396</td>\n",
       "      <td>1208</td>\n",
       "      <td>390</td>\n",
       "      <td>509</td>\n",
       "      <td>286</td>\n",
       "      <td>282</td>\n",
       "      <td>328</td>\n",
       "      <td>262</td>\n",
       "      <td>159</td>\n",
       "      <td>121</td>\n",
       "    </tr>\n",
       "    <tr>\n",
       "      <th>5</th>\n",
       "      <td>wt_ut</td>\n",
       "      <td>897</td>\n",
       "      <td>708</td>\n",
       "      <td>536</td>\n",
       "      <td>593</td>\n",
       "      <td>227</td>\n",
       "      <td>569</td>\n",
       "      <td>342</td>\n",
       "      <td>225</td>\n",
       "      <td>188</td>\n",
       "      <td>88</td>\n",
       "    </tr>\n",
       "    <tr>\n",
       "      <th>6</th>\n",
       "      <td>wt_ut</td>\n",
       "      <td>1499</td>\n",
       "      <td>1143</td>\n",
       "      <td>365</td>\n",
       "      <td>291</td>\n",
       "      <td>235</td>\n",
       "      <td>368</td>\n",
       "      <td>287</td>\n",
       "      <td>268</td>\n",
       "      <td>179</td>\n",
       "      <td>104</td>\n",
       "    </tr>\n",
       "  </tbody>\n",
       "</table>\n",
       "</div>"
      ],
      "text/plain": [
       "       SampleID  cluster_1  cluster_2  cluster_3  cluster_4  cluster_5  \\\n",
       "0  het_7d_abeta       1660       1732        448        447        499   \n",
       "1        het_ut        958       1046        289        402        231   \n",
       "2        het_ut       1796       1650        394        319        540   \n",
       "3   wt_7d_abeta       1201        873        721        416        290   \n",
       "4   wt_7d_abeta       1396       1208        390        509        286   \n",
       "5         wt_ut        897        708        536        593        227   \n",
       "6         wt_ut       1499       1143        365        291        235   \n",
       "\n",
       "   cluster_6  cluster_7  cluster_8  cluster_9  cluster_10  \n",
       "0         51        195        227         45         124  \n",
       "1         39        100        157         42          58  \n",
       "2         61        204        196         57         109  \n",
       "3        677        382        313        254         152  \n",
       "4        282        328        262        159         121  \n",
       "5        569        342        225        188          88  \n",
       "6        368        287        268        179         104  "
      ]
     },
     "execution_count": 5,
     "metadata": {},
     "output_type": "execute_result"
    }
   ],
   "source": [
    "# Define a function to process each string\n",
    "def process_string(string):\n",
    "    parts = string.split('_')[:-2]  # Keep all parts except the second-to-last and last\n",
    "    return '_'.join(parts)\n",
    "\n",
    "# Apply the function to each string in the DataFrame\n",
    "cell_counts['SampleID'] = cell_counts['SampleID'].apply(process_string)\n",
    "cell_counts"
   ]
  },
  {
   "cell_type": "code",
   "execution_count": 6,
   "metadata": {},
   "outputs": [
    {
     "name": "stdout",
     "output_type": "stream",
     "text": [
      "AnnData object with n_obs × n_vars = 7 × 10\n",
      "    obs: 'SampleID'\n"
     ]
    }
   ],
   "source": [
    "# Convert data to anndata object\n",
    "data_all = dat.from_pandas(cell_counts, covariate_columns=[\"SampleID\"])\n",
    "\n",
    "print(data_all)"
   ]
  },
  {
   "cell_type": "code",
   "execution_count": 7,
   "metadata": {},
   "outputs": [
    {
     "data": {
      "image/png": "[encoded data removed]",
      "text/plain": [
       "<Figure size 640x480 with 1 Axes>"
      ]
     },
     "metadata": {},
     "output_type": "display_data"
    }
   ],
   "source": [
    "viz.boxplots(data_all, feature_name=\"SampleID\")\n",
    "plt.show()"
   ]
  },
  {
   "cell_type": "code",
   "execution_count": 9,
   "metadata": {},
   "outputs": [
    {
     "data": {
      "image/png": "[encoded data removed]",
      "text/plain": [
       "<Figure size 640x480 with 1 Axes>"
      ]
     },
     "metadata": {},
     "output_type": "display_data"
    },
    {
     "data": {
      "image/png": "[encoded data removed]",
      "text/plain": [
       "<Figure size 640x480 with 1 Axes>"
      ]
     },
     "metadata": {},
     "output_type": "display_data"
    }
   ],
   "source": [
    "# Stacked barplot for each sample\n",
    "viz.stacked_barplot(data_all, feature_name=\"samples\")\n",
    "plt.show()\n",
    "\n",
    "# Stacked barplot for the levels of \"Condition\"\n",
    "viz.stacked_barplot(data_all, feature_name=\"SampleID\")\n",
    "plt.show()"
   ]
  },
  {
   "cell_type": "code",
   "execution_count": 8,
   "metadata": {},
   "outputs": [
    {
     "name": "stderr",
     "output_type": "stream",
     "text": [
      "WARNING: All log messages before absl::InitializeLog() is called are written to STDERR\n",
      "I0000 00:00:1711841421.973620 44400630 service.cc:145] XLA service 0x2967a3280 initialized for platform Host (this does not guarantee that XLA will be used). Devices:\n",
      "I0000 00:00:1711841421.973682 44400630 service.cc:153]   StreamExecutor device (0): Host, Default Version\n",
      "  0%|          | 0/20000 [00:00<?, ?it/s]2024-03-30 16:30:22.026587: I tensorflow/compiler/mlir/tensorflow/utils/dump_mlir_util.cc:268] disabling MLIR crash reproducer, set env var `MLIR_CRASH_REPRODUCER_DIRECTORY` to enable.\n",
      "I0000 00:00:1711841422.345220 44400630 device_compiler.h:188] Compiled cluster using XLA!  This line is logged at most once for the lifetime of the process.\n",
      "100%|██████████| 20000/20000 [00:33<00:00, 591.75it/s]\n"
     ]
    },
    {
     "name": "stdout",
     "output_type": "stream",
     "text": [
      "MCMC sampling finished. (42.980 sec)\n",
      "Acceptance rate: 75.5%\n",
      "Compositional Analysis summary:\n",
      "\n",
      "Data: 7 samples, 10 cell types\n",
      "Reference index: 0\n",
      "Formula: SampleID\n",
      "\n",
      "Intercepts:\n",
      "            Final Parameter  Expected Sample\n",
      "Cell Type                                   \n",
      "cluster_1             3.482      1361.753376\n",
      "cluster_2             3.452      1321.507482\n",
      "cluster_3             2.386       455.105107\n",
      "cluster_4             2.351       439.451956\n",
      "cluster_5             2.117       347.765498\n",
      "cluster_6             1.115       127.680161\n",
      "cluster_7             1.772       246.294604\n",
      "cluster_8             1.766       244.821261\n",
      "cluster_9             0.946       107.827033\n",
      "cluster_10            1.056       120.364952\n",
      "\n",
      "\n",
      "Effects:\n",
      "                                    Final Parameter  Expected Sample  \\\n",
      "Covariate               Cell Type                                      \n",
      "SampleID[T.het_ut]      cluster_1               0.0      1361.753376   \n",
      "                        cluster_2               0.0      1321.507482   \n",
      "                        cluster_3               0.0       455.105107   \n",
      "                        cluster_4               0.0       439.451956   \n",
      "                        cluster_5               0.0       347.765498   \n",
      "                        cluster_6               0.0       127.680161   \n",
      "                        cluster_7               0.0       246.294604   \n",
      "                        cluster_8               0.0       244.821261   \n",
      "                        cluster_9               0.0       107.827033   \n",
      "                        cluster_10              0.0       120.364952   \n",
      "SampleID[T.wt_7d_abeta] cluster_1               0.0      1361.753376   \n",
      "                        cluster_2               0.0      1321.507482   \n",
      "                        cluster_3               0.0       455.105107   \n",
      "                        cluster_4               0.0       439.451956   \n",
      "                        cluster_5               0.0       347.765498   \n",
      "                        cluster_6               0.0       127.680161   \n",
      "                        cluster_7               0.0       246.294604   \n",
      "                        cluster_8               0.0       244.821261   \n",
      "                        cluster_9               0.0       107.827033   \n",
      "                        cluster_10              0.0       120.364952   \n",
      "SampleID[T.wt_ut]       cluster_1               0.0      1361.753376   \n",
      "                        cluster_2               0.0      1321.507482   \n",
      "                        cluster_3               0.0       455.105107   \n",
      "                        cluster_4               0.0       439.451956   \n",
      "                        cluster_5               0.0       347.765498   \n",
      "                        cluster_6               0.0       127.680161   \n",
      "                        cluster_7               0.0       246.294604   \n",
      "                        cluster_8               0.0       244.821261   \n",
      "                        cluster_9               0.0       107.827033   \n",
      "                        cluster_10              0.0       120.364952   \n",
      "\n",
      "                                    log2-fold change  \n",
      "Covariate               Cell Type                     \n",
      "SampleID[T.het_ut]      cluster_1                0.0  \n",
      "                        cluster_2                0.0  \n",
      "                        cluster_3                0.0  \n",
      "                        cluster_4                0.0  \n",
      "                        cluster_5                0.0  \n",
      "                        cluster_6                0.0  \n",
      "                        cluster_7                0.0  \n",
      "                        cluster_8                0.0  \n",
      "                        cluster_9                0.0  \n",
      "                        cluster_10               0.0  \n",
      "SampleID[T.wt_7d_abeta] cluster_1                0.0  \n",
      "                        cluster_2                0.0  \n",
      "                        cluster_3                0.0  \n",
      "                        cluster_4                0.0  \n",
      "                        cluster_5                0.0  \n",
      "                        cluster_6                0.0  \n",
      "                        cluster_7                0.0  \n",
      "                        cluster_8                0.0  \n",
      "                        cluster_9                0.0  \n",
      "                        cluster_10               0.0  \n",
      "SampleID[T.wt_ut]       cluster_1                0.0  \n",
      "                        cluster_2                0.0  \n",
      "                        cluster_3                0.0  \n",
      "                        cluster_4                0.0  \n",
      "                        cluster_5                0.0  \n",
      "                        cluster_6                0.0  \n",
      "                        cluster_7                0.0  \n",
      "                        cluster_8                0.0  \n",
      "                        cluster_9                0.0  \n",
      "                        cluster_10               0.0  \n"
     ]
    }
   ],
   "source": [
    "# model all conditions at once\n",
    "model_all = mod.CompositionalAnalysis(data_all, formula=\"SampleID\", reference_cell_type=\"cluster_1\")\n",
    "all_results = model_all.sample_hmc()\n",
    "all_results.summary()"
   ]
  },
  {
   "cell_type": "code",
   "execution_count": 10,
   "metadata": {},
   "outputs": [
    {
     "data": {
      "image/png": "[encoded data removed]",
      "text/plain": [
       "<Figure size 640x480 with 1 Axes>"
      ]
     },
     "metadata": {},
     "output_type": "display_data"
    }
   ],
   "source": [
    "viz.rel_abundance_dispersion_plot(\n",
    "    data=data_all,\n",
    "    abundant_threshold=0.9\n",
    ")\n",
    "plt.show()"
   ]
  },
  {
   "cell_type": "code",
   "execution_count": 11,
   "metadata": {},
   "outputs": [
    {
     "name": "stderr",
     "output_type": "stream",
     "text": [
      "100%|██████████| 20000/20000 [00:33<00:00, 595.08it/s]\n"
     ]
    },
    {
     "name": "stdout",
     "output_type": "stream",
     "text": [
      "MCMC sampling finished. (42.642 sec)\n",
      "Acceptance rate: 77.3%\n",
      "Compositional Analysis summary:\n",
      "\n",
      "Data: 7 samples, 10 cell types\n",
      "Reference index: 5\n",
      "Formula: C(SampleID, Treatment('wt_ut'))\n",
      "\n",
      "Intercepts:\n",
      "            Final Parameter  Expected Sample\n",
      "Cell Type                                   \n",
      "cluster_1             3.018      1334.029355\n",
      "cluster_2             2.841      1117.622826\n",
      "cluster_3             2.001       482.489535\n",
      "cluster_4             1.957       461.720270\n",
      "cluster_5             1.627       331.941660\n",
      "cluster_6             1.175       211.232460\n",
      "cluster_7             1.492       290.022710\n",
      "cluster_8             1.417       269.066680\n",
      "cluster_9             0.779       142.160860\n",
      "cluster_10            0.707       132.285072\n",
      "\n",
      "\n",
      "Effects:\n",
      "                                                            Final Parameter  \\\n",
      "Covariate                                       Cell Type                     \n",
      "C(SampleID, Treatment('wt_ut'))[T.het_7d_abeta] cluster_1               0.0   \n",
      "                                                cluster_2               0.0   \n",
      "                                                cluster_3               0.0   \n",
      "                                                cluster_4               0.0   \n",
      "                                                cluster_5               0.0   \n",
      "                                                cluster_6               0.0   \n",
      "                                                cluster_7               0.0   \n",
      "                                                cluster_8               0.0   \n",
      "                                                cluster_9               0.0   \n",
      "                                                cluster_10              0.0   \n",
      "C(SampleID, Treatment('wt_ut'))[T.het_ut]       cluster_1               0.0   \n",
      "                                                cluster_2               0.0   \n",
      "                                                cluster_3               0.0   \n",
      "                                                cluster_4               0.0   \n",
      "                                                cluster_5               0.0   \n",
      "                                                cluster_6               0.0   \n",
      "                                                cluster_7               0.0   \n",
      "                                                cluster_8               0.0   \n",
      "                                                cluster_9               0.0   \n",
      "                                                cluster_10              0.0   \n",
      "C(SampleID, Treatment('wt_ut'))[T.wt_7d_abeta]  cluster_1               0.0   \n",
      "                                                cluster_2               0.0   \n",
      "                                                cluster_3               0.0   \n",
      "                                                cluster_4               0.0   \n",
      "                                                cluster_5               0.0   \n",
      "                                                cluster_6               0.0   \n",
      "                                                cluster_7               0.0   \n",
      "                                                cluster_8               0.0   \n",
      "                                                cluster_9               0.0   \n",
      "                                                cluster_10              0.0   \n",
      "\n",
      "                                                            Expected Sample  \\\n",
      "Covariate                                       Cell Type                     \n",
      "C(SampleID, Treatment('wt_ut'))[T.het_7d_abeta] cluster_1       1334.029355   \n",
      "                                                cluster_2       1117.622826   \n",
      "                                                cluster_3        482.489535   \n",
      "                                                cluster_4        461.720270   \n",
      "                                                cluster_5        331.941660   \n",
      "                                                cluster_6        211.232460   \n",
      "                                                cluster_7        290.022710   \n",
      "                                                cluster_8        269.066680   \n",
      "                                                cluster_9        142.160860   \n",
      "                                                cluster_10       132.285072   \n",
      "C(SampleID, Treatment('wt_ut'))[T.het_ut]       cluster_1       1334.029355   \n",
      "                                                cluster_2       1117.622826   \n",
      "                                                cluster_3        482.489535   \n",
      "                                                cluster_4        461.720270   \n",
      "                                                cluster_5        331.941660   \n",
      "                                                cluster_6        211.232460   \n",
      "                                                cluster_7        290.022710   \n",
      "                                                cluster_8        269.066680   \n",
      "                                                cluster_9        142.160860   \n",
      "                                                cluster_10       132.285072   \n",
      "C(SampleID, Treatment('wt_ut'))[T.wt_7d_abeta]  cluster_1       1334.029355   \n",
      "                                                cluster_2       1117.622826   \n",
      "                                                cluster_3        482.489535   \n",
      "                                                cluster_4        461.720270   \n",
      "                                                cluster_5        331.941660   \n",
      "                                                cluster_6        211.232460   \n",
      "                                                cluster_7        290.022710   \n",
      "                                                cluster_8        269.066680   \n",
      "                                                cluster_9        142.160860   \n",
      "                                                cluster_10       132.285072   \n",
      "\n",
      "                                                            log2-fold change  \n",
      "Covariate                                       Cell Type                     \n",
      "C(SampleID, Treatment('wt_ut'))[T.het_7d_abeta] cluster_1                0.0  \n",
      "                                                cluster_2                0.0  \n",
      "                                                cluster_3                0.0  \n",
      "                                                cluster_4                0.0  \n",
      "                                                cluster_5                0.0  \n",
      "                                                cluster_6                0.0  \n",
      "                                                cluster_7                0.0  \n",
      "                                                cluster_8                0.0  \n",
      "                                                cluster_9                0.0  \n",
      "                                                cluster_10               0.0  \n",
      "C(SampleID, Treatment('wt_ut'))[T.het_ut]       cluster_1                0.0  \n",
      "                                                cluster_2                0.0  \n",
      "                                                cluster_3                0.0  \n",
      "                                                cluster_4                0.0  \n",
      "                                                cluster_5                0.0  \n",
      "                                                cluster_6                0.0  \n",
      "                                                cluster_7                0.0  \n",
      "                                                cluster_8                0.0  \n",
      "                                                cluster_9                0.0  \n",
      "                                                cluster_10               0.0  \n",
      "C(SampleID, Treatment('wt_ut'))[T.wt_7d_abeta]  cluster_1                0.0  \n",
      "                                                cluster_2                0.0  \n",
      "                                                cluster_3                0.0  \n",
      "                                                cluster_4                0.0  \n",
      "                                                cluster_5                0.0  \n",
      "                                                cluster_6                0.0  \n",
      "                                                cluster_7                0.0  \n",
      "                                                cluster_8                0.0  \n",
      "                                                cluster_9                0.0  \n",
      "                                                cluster_10               0.0  \n"
     ]
    }
   ],
   "source": [
    "# Set wt_ut as \"default\" category\n",
    "\n",
    "model_all = mod.CompositionalAnalysis(data_all, formula=\"C(SampleID, Treatment('wt_ut'))\", reference_cell_type=\"cluster_6\")\n",
    "all_results = model_all.sample_hmc()\n",
    "all_results.summary()"
   ]
  },
  {
   "cell_type": "markdown",
   "metadata": {},
   "source": [
    "Comparing wildtype to Het (untreated)"
   ]
  },
  {
   "cell_type": "code",
   "execution_count": 20,
   "metadata": {},
   "outputs": [
    {
     "name": "stdout",
     "output_type": "stream",
     "text": [
      "  SampleID\n",
      "1   het_ut\n",
      "2   het_ut\n",
      "5    wt_ut\n",
      "6    wt_ut\n"
     ]
    }
   ],
   "source": [
    "# Select wt_ut and het_ut data\n",
    "data_ut = data_all[data_all.obs[\"SampleID\"].isin([\"wt_ut\", \"het_ut\"])]\n",
    "print(data_ut.obs)"
   ]
  },
  {
   "cell_type": "code",
   "execution_count": 22,
   "metadata": {},
   "outputs": [
    {
     "name": "stdout",
     "output_type": "stream",
     "text": [
      "Reference: cluster_1\n"
     ]
    },
    {
     "name": "stderr",
     "output_type": "stream",
     "text": [
      "100%|██████████| 20000/20000 [00:33<00:00, 605.80it/s]\n"
     ]
    },
    {
     "name": "stdout",
     "output_type": "stream",
     "text": [
      "WARNING:tensorflow:6 out of the last 6 calls to <function CompositionalModel.sampling.<locals>.sample_mcmc at 0x2f4e29700> triggered tf.function retracing. Tracing is expensive and the excessive number of tracings could be due to (1) creating @tf.function repeatedly in a loop, (2) passing tensors with different shapes, (3) passing Python objects instead of tensors. For (1), please define your @tf.function outside of the loop. For (2), @tf.function has reduce_retracing=True option that can avoid unnecessary retracing. For (3), please refer to https://www.tensorflow.org/guide/function#controlling_retracing and https://www.tensorflow.org/api_docs/python/tf/function for  more details.\n",
      "MCMC sampling finished. (41.965 sec)\n",
      "Acceptance rate: 61.6%\n",
      "Reference: cluster_2\n"
     ]
    },
    {
     "name": "stderr",
     "output_type": "stream",
     "text": [
      "100%|██████████| 20000/20000 [00:33<00:00, 590.86it/s]\n"
     ]
    },
    {
     "name": "stdout",
     "output_type": "stream",
     "text": [
      "MCMC sampling finished. (42.877 sec)\n",
      "Acceptance rate: 49.3%\n",
      "Reference: cluster_3\n"
     ]
    },
    {
     "name": "stderr",
     "output_type": "stream",
     "text": [
      "100%|██████████| 20000/20000 [00:33<00:00, 594.68it/s]\n"
     ]
    },
    {
     "name": "stdout",
     "output_type": "stream",
     "text": [
      "MCMC sampling finished. (42.616 sec)\n",
      "Acceptance rate: 48.2%\n",
      "Reference: cluster_4\n"
     ]
    },
    {
     "name": "stderr",
     "output_type": "stream",
     "text": [
      "100%|██████████| 20000/20000 [00:33<00:00, 593.49it/s]\n"
     ]
    },
    {
     "name": "stdout",
     "output_type": "stream",
     "text": [
      "MCMC sampling finished. (42.916 sec)\n",
      "Acceptance rate: 56.2%\n",
      "Reference: cluster_5\n"
     ]
    },
    {
     "name": "stderr",
     "output_type": "stream",
     "text": [
      "100%|██████████| 20000/20000 [00:34<00:00, 586.76it/s]\n"
     ]
    },
    {
     "name": "stdout",
     "output_type": "stream",
     "text": [
      "MCMC sampling finished. (43.106 sec)\n",
      "Acceptance rate: 50.6%\n",
      "Reference: cluster_6\n"
     ]
    },
    {
     "name": "stderr",
     "output_type": "stream",
     "text": [
      "100%|██████████| 20000/20000 [00:33<00:00, 598.75it/s]\n"
     ]
    },
    {
     "name": "stdout",
     "output_type": "stream",
     "text": [
      "MCMC sampling finished. (42.705 sec)\n",
      "Acceptance rate: 47.9%\n",
      "Reference: cluster_7\n"
     ]
    },
    {
     "name": "stderr",
     "output_type": "stream",
     "text": [
      "100%|██████████| 20000/20000 [00:34<00:00, 584.02it/s]\n"
     ]
    },
    {
     "name": "stdout",
     "output_type": "stream",
     "text": [
      "MCMC sampling finished. (43.378 sec)\n",
      "Acceptance rate: 50.7%\n",
      "Reference: cluster_8\n"
     ]
    },
    {
     "name": "stderr",
     "output_type": "stream",
     "text": [
      "100%|██████████| 20000/20000 [00:33<00:00, 591.08it/s]\n"
     ]
    },
    {
     "name": "stdout",
     "output_type": "stream",
     "text": [
      "MCMC sampling finished. (43.199 sec)\n",
      "Acceptance rate: 45.5%\n",
      "Reference: cluster_9\n"
     ]
    },
    {
     "name": "stderr",
     "output_type": "stream",
     "text": [
      "100%|██████████| 20000/20000 [00:33<00:00, 601.58it/s]\n"
     ]
    },
    {
     "name": "stdout",
     "output_type": "stream",
     "text": [
      "MCMC sampling finished. (42.045 sec)\n",
      "Acceptance rate: 56.0%\n",
      "Reference: cluster_10\n"
     ]
    },
    {
     "name": "stderr",
     "output_type": "stream",
     "text": [
      "100%|██████████| 20000/20000 [00:33<00:00, 596.01it/s]\n"
     ]
    },
    {
     "name": "stdout",
     "output_type": "stream",
     "text": [
      "MCMC sampling finished. (42.617 sec)\n",
      "Acceptance rate: 57.5%\n"
     ]
    }
   ],
   "source": [
    "# Run scCODA with each cell type as the reference\n",
    "cell_types = data_ut.var.index\n",
    "results_cycle = pd.DataFrame(index=cell_types, columns=[\"times_credible\"]).fillna(0)\n",
    "\n",
    "for ct in cell_types:\n",
    "    print(f\"Reference: {ct}\")\n",
    "\n",
    "    # Run inference\n",
    "    model_temp = mod.CompositionalAnalysis(data_ut, formula=\"C(SampleID, Treatment('wt_ut'))\", reference_cell_type=ct)\n",
    "    temp_results = model_temp.sample_hmc(num_results=20000)\n",
    "\n",
    "    # Select credible effects\n",
    "    cred_eff = temp_results.credible_effects()\n",
    "    cred_eff.index = cred_eff.index.droplevel(level=0)\n",
    "\n",
    "    # add up credible effects\n",
    "    results_cycle[\"times_credible\"] += cred_eff.astype(\"int\")"
   ]
  },
  {
   "cell_type": "code",
   "execution_count": 23,
   "metadata": {},
   "outputs": [
    {
     "name": "stdout",
     "output_type": "stream",
     "text": [
      "            times_credible  pct_credible  is_credible\n",
      "cluster_1                0           0.0        False\n",
      "cluster_2                0           0.0        False\n",
      "cluster_3                0           0.0        False\n",
      "cluster_4                0           0.0        False\n",
      "cluster_5                0           0.0        False\n",
      "cluster_6                9           0.9         True\n",
      "cluster_7                0           0.0        False\n",
      "cluster_8                0           0.0        False\n",
      "cluster_9                0           0.0        False\n",
      "cluster_10               0           0.0        False\n"
     ]
    }
   ],
   "source": [
    "# Calculate percentages\n",
    "results_cycle[\"pct_credible\"] = results_cycle[\"times_credible\"]/len(cell_types)\n",
    "results_cycle[\"is_credible\"] = results_cycle[\"pct_credible\"] > 0.5\n",
    "print(results_cycle)"
   ]
  },
  {
   "cell_type": "markdown",
   "metadata": {},
   "source": [
    "Comparing wildtype untreated to wildtype 7day abeta"
   ]
  },
  {
   "cell_type": "code",
   "execution_count": 25,
   "metadata": {},
   "outputs": [
    {
     "name": "stdout",
     "output_type": "stream",
     "text": [
      "      SampleID\n",
      "3  wt_7d_abeta\n",
      "4  wt_7d_abeta\n",
      "5        wt_ut\n",
      "6        wt_ut\n"
     ]
    }
   ],
   "source": [
    "# Select wt_ut and het_ut data\n",
    "data_ut = data_all[data_all.obs[\"SampleID\"].isin([\"wt_ut\", \"wt_7d_abeta\"])]\n",
    "print(data_ut.obs)"
   ]
  },
  {
   "cell_type": "code",
   "execution_count": 26,
   "metadata": {},
   "outputs": [
    {
     "name": "stdout",
     "output_type": "stream",
     "text": [
      "Reference: cluster_1\n"
     ]
    },
    {
     "name": "stderr",
     "output_type": "stream",
     "text": [
      "100%|██████████| 20000/20000 [00:32<00:00, 617.61it/s]\n"
     ]
    },
    {
     "name": "stdout",
     "output_type": "stream",
     "text": [
      "MCMC sampling finished. (41.013 sec)\n",
      "Acceptance rate: 53.1%\n",
      "Reference: cluster_2\n"
     ]
    },
    {
     "name": "stderr",
     "output_type": "stream",
     "text": [
      "100%|██████████| 20000/20000 [00:32<00:00, 611.17it/s]\n"
     ]
    },
    {
     "name": "stdout",
     "output_type": "stream",
     "text": [
      "MCMC sampling finished. (41.713 sec)\n",
      "Acceptance rate: 57.9%\n",
      "Reference: cluster_3\n"
     ]
    },
    {
     "name": "stderr",
     "output_type": "stream",
     "text": [
      "100%|██████████| 20000/20000 [00:33<00:00, 593.12it/s]\n"
     ]
    },
    {
     "name": "stdout",
     "output_type": "stream",
     "text": [
      "MCMC sampling finished. (42.703 sec)\n",
      "Acceptance rate: 60.3%\n",
      "Reference: cluster_4\n"
     ]
    },
    {
     "name": "stderr",
     "output_type": "stream",
     "text": [
      "100%|██████████| 20000/20000 [00:33<00:00, 598.30it/s]\n"
     ]
    },
    {
     "name": "stdout",
     "output_type": "stream",
     "text": [
      "MCMC sampling finished. (42.546 sec)\n",
      "Acceptance rate: 45.7%\n",
      "Reference: cluster_5\n"
     ]
    },
    {
     "name": "stderr",
     "output_type": "stream",
     "text": [
      "100%|██████████| 20000/20000 [00:34<00:00, 587.61it/s]\n"
     ]
    },
    {
     "name": "stdout",
     "output_type": "stream",
     "text": [
      "MCMC sampling finished. (43.345 sec)\n",
      "Acceptance rate: 46.5%\n",
      "Reference: cluster_6\n"
     ]
    },
    {
     "name": "stderr",
     "output_type": "stream",
     "text": [
      "100%|██████████| 20000/20000 [00:33<00:00, 597.04it/s]\n"
     ]
    },
    {
     "name": "stdout",
     "output_type": "stream",
     "text": [
      "MCMC sampling finished. (42.524 sec)\n",
      "Acceptance rate: 49.7%\n",
      "Reference: cluster_7\n"
     ]
    },
    {
     "name": "stderr",
     "output_type": "stream",
     "text": [
      "100%|██████████| 20000/20000 [00:33<00:00, 594.45it/s]\n"
     ]
    },
    {
     "name": "stdout",
     "output_type": "stream",
     "text": [
      "MCMC sampling finished. (42.623 sec)\n",
      "Acceptance rate: 46.1%\n",
      "Reference: cluster_8\n"
     ]
    },
    {
     "name": "stderr",
     "output_type": "stream",
     "text": [
      "100%|██████████| 20000/20000 [00:33<00:00, 591.17it/s]\n"
     ]
    },
    {
     "name": "stdout",
     "output_type": "stream",
     "text": [
      "MCMC sampling finished. (42.895 sec)\n",
      "Acceptance rate: 42.2%\n",
      "Reference: cluster_9\n"
     ]
    },
    {
     "name": "stderr",
     "output_type": "stream",
     "text": [
      "100%|██████████| 20000/20000 [00:34<00:00, 581.03it/s]\n"
     ]
    },
    {
     "name": "stdout",
     "output_type": "stream",
     "text": [
      "MCMC sampling finished. (43.886 sec)\n",
      "Acceptance rate: 50.6%\n",
      "Reference: cluster_10\n"
     ]
    },
    {
     "name": "stderr",
     "output_type": "stream",
     "text": [
      "100%|██████████| 20000/20000 [00:33<00:00, 589.02it/s]\n"
     ]
    },
    {
     "name": "stdout",
     "output_type": "stream",
     "text": [
      "MCMC sampling finished. (42.968 sec)\n",
      "Acceptance rate: 49.9%\n"
     ]
    }
   ],
   "source": [
    "# Run scCODA with each cell type as the reference\n",
    "cell_types = data_ut.var.index\n",
    "results_cycle = pd.DataFrame(index=cell_types, columns=[\"times_credible\"]).fillna(0)\n",
    "\n",
    "for ct in cell_types:\n",
    "    print(f\"Reference: {ct}\")\n",
    "\n",
    "    # Run inference\n",
    "    model_temp = mod.CompositionalAnalysis(data_ut, formula=\"C(SampleID, Treatment('wt_ut'))\", reference_cell_type=ct)\n",
    "    temp_results = model_temp.sample_hmc(num_results=20000)\n",
    "\n",
    "    # Select credible effects\n",
    "    cred_eff = temp_results.credible_effects()\n",
    "    cred_eff.index = cred_eff.index.droplevel(level=0)\n",
    "\n",
    "    # add up credible effects\n",
    "    results_cycle[\"times_credible\"] += cred_eff.astype(\"int\")"
   ]
  },
  {
   "cell_type": "code",
   "execution_count": 27,
   "metadata": {},
   "outputs": [
    {
     "name": "stdout",
     "output_type": "stream",
     "text": [
      "            times_credible  pct_credible  is_credible\n",
      "cluster_1                0           0.0        False\n",
      "cluster_2                0           0.0        False\n",
      "cluster_3                0           0.0        False\n",
      "cluster_4                0           0.0        False\n",
      "cluster_5                0           0.0        False\n",
      "cluster_6                0           0.0        False\n",
      "cluster_7                0           0.0        False\n",
      "cluster_8                0           0.0        False\n",
      "cluster_9                0           0.0        False\n",
      "cluster_10               0           0.0        False\n"
     ]
    }
   ],
   "source": [
    "# Calculate percentages\n",
    "results_cycle[\"pct_credible\"] = results_cycle[\"times_credible\"]/len(cell_types)\n",
    "results_cycle[\"is_credible\"] = results_cycle[\"pct_credible\"] > 0.5\n",
    "print(results_cycle)"
   ]
  }
 ],
 "metadata": {
  "kernelspec": {
   "display_name": "scCODA",
   "language": "python",
   "name": "python3"
  },
  "language_info": {
   "codemirror_mode": {
    "name": "ipython",
    "version": 3
   },
   "file_extension": ".py",
   "mimetype": "text/x-python",
   "name": "python",
   "nbconvert_exporter": "python",
   "pygments_lexer": "ipython3",
   "version": "3.9.19"
  }
 },
 "nbformat": 4,
 "nbformat_minor": 2
}
