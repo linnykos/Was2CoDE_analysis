{
 "cells": [
  {
   "cell_type": "code",
   "execution_count": 4,
   "metadata": {},
   "outputs": [],
   "source": [
    "# This is for the dataset:\n",
    "# QCd_louvain_multi_clustered_harmony_ws_40pcs_20240205_SCTonly_7day_abeta_comp_run2.rdata\n",
    "\n",
    "# Using the \"scCODA\" conda environment\n",
    "# https://sccoda.readthedocs.io/en/latest/getting_started.html\n",
    "# pip install sccoda\n",
    "# pip install tensorflow-probability\n",
    "# pip install tensorflow\n",
    "# pip install tf-keras\n",
    "\n",
    "# Setup\n",
    "import importlib\n",
    "import warnings\n",
    "warnings.filterwarnings(\"ignore\")\n",
    "\n",
    "import pandas as pd\n",
    "import pickle as pkl\n",
    "import matplotlib.pyplot as plt\n",
    "import arviz as az\n",
    "import scanpy as sc\n",
    "\n",
    "from sccoda.util import comp_ana as mod\n",
    "from sccoda.util import cell_composition_data as dat\n",
    "from sccoda.util import data_visualization as viz\n",
    "\n",
    "import sccoda.datasets as scd\n",
    "import anndata as ad"
   ]
  },
  {
   "cell_type": "code",
   "execution_count": 5,
   "metadata": {},
   "outputs": [
    {
     "name": "stdout",
     "output_type": "stream",
     "text": [
      "               SampleID  cluster_0  cluster_1  cluster_2  cluster_3  \\\n",
      "0  het_7d_abeta_br1_tr2       1660       1732        448        447   \n",
      "1        het_ut_br1_tr1        958       1046        289        402   \n",
      "2        het_ut_br1_tr2       1796       1650        394        319   \n",
      "3   wt_7d_abeta_br2_tr1       1201        873        721        416   \n",
      "4   wt_7d_abeta_br2_tr2       1396       1208        390        509   \n",
      "5         wt_ut_br2_tr1        897        708        536        593   \n",
      "6         wt_ut_br2_tr2       1499       1143        365        291   \n",
      "\n",
      "   cluster_4  cluster_5  cluster_6  cluster_7  cluster_8  cluster_9  \n",
      "0        499         51        195        227         45        124  \n",
      "1        231         39        100        157         42         58  \n",
      "2        540         61        204        196         57        109  \n",
      "3        290        677        382        313        254        152  \n",
      "4        286        282        328        262        159        121  \n",
      "5        227        569        342        225        188         88  \n",
      "6        235        368        287        268        179        104  \n"
     ]
    }
   ],
   "source": [
    "# Load data\n",
    "\n",
    "cell_counts = pd.read_csv(\"/Users/kevinlin/Library/CloudStorage/Dropbox/Collaboration-and-People/tati/out/kevin/Writeup4/Writeup4_7day-abeta_composition.csv\")\n",
    "\n",
    "print(cell_counts)"
   ]
  },
  {
   "cell_type": "code",
   "execution_count": 6,
   "metadata": {},
   "outputs": [
    {
     "data": {
      "text/plain": [
       "pandas.core.frame.DataFrame"
      ]
     },
     "execution_count": 6,
     "metadata": {},
     "output_type": "execute_result"
    }
   ],
   "source": [
    "type(cell_counts)"
   ]
  },
  {
   "cell_type": "code",
   "execution_count": 7,
   "metadata": {},
   "outputs": [
    {
     "name": "stdout",
     "output_type": "stream",
     "text": [
      "het_7d_abeta\n"
     ]
    }
   ],
   "source": [
    "string = \"het_7d_abeta_br1_tr2\"\n",
    "parts = string.split('_')[:-2]  # Keep all parts except the second-to-last and last\n",
    "result = '_'.join(parts)\n",
    "print(result)"
   ]
  },
  {
   "cell_type": "code",
   "execution_count": 8,
   "metadata": {},
   "outputs": [
    {
     "data": {
      "text/html": [
       "<div>\n",
       "<style scoped>\n",
       "    .dataframe tbody tr th:only-of-type {\n",
       "        vertical-align: middle;\n",
       "    }\n",
       "\n",
       "    .dataframe tbody tr th {\n",
       "        vertical-align: top;\n",
       "    }\n",
       "\n",
       "    .dataframe thead th {\n",
       "        text-align: right;\n",
       "    }\n",
       "</style>\n",
       "<table border=\"1\" class=\"dataframe\">\n",
       "  <thead>\n",
       "    <tr style=\"text-align: right;\">\n",
       "      <th></th>\n",
       "      <th>SampleID</th>\n",
       "      <th>cluster_0</th>\n",
       "      <th>cluster_1</th>\n",
       "      <th>cluster_2</th>\n",
       "      <th>cluster_3</th>\n",
       "      <th>cluster_4</th>\n",
       "      <th>cluster_5</th>\n",
       "      <th>cluster_6</th>\n",
       "      <th>cluster_7</th>\n",
       "      <th>cluster_8</th>\n",
       "      <th>cluster_9</th>\n",
       "    </tr>\n",
       "  </thead>\n",
       "  <tbody>\n",
       "    <tr>\n",
       "      <th>0</th>\n",
       "      <td>het_7d_abeta</td>\n",
       "      <td>1660</td>\n",
       "      <td>1732</td>\n",
       "      <td>448</td>\n",
       "      <td>447</td>\n",
       "      <td>499</td>\n",
       "      <td>51</td>\n",
       "      <td>195</td>\n",
       "      <td>227</td>\n",
       "      <td>45</td>\n",
       "      <td>124</td>\n",
       "    </tr>\n",
       "    <tr>\n",
       "      <th>1</th>\n",
       "      <td>het_ut</td>\n",
       "      <td>958</td>\n",
       "      <td>1046</td>\n",
       "      <td>289</td>\n",
       "      <td>402</td>\n",
       "      <td>231</td>\n",
       "      <td>39</td>\n",
       "      <td>100</td>\n",
       "      <td>157</td>\n",
       "      <td>42</td>\n",
       "      <td>58</td>\n",
       "    </tr>\n",
       "    <tr>\n",
       "      <th>2</th>\n",
       "      <td>het_ut</td>\n",
       "      <td>1796</td>\n",
       "      <td>1650</td>\n",
       "      <td>394</td>\n",
       "      <td>319</td>\n",
       "      <td>540</td>\n",
       "      <td>61</td>\n",
       "      <td>204</td>\n",
       "      <td>196</td>\n",
       "      <td>57</td>\n",
       "      <td>109</td>\n",
       "    </tr>\n",
       "    <tr>\n",
       "      <th>3</th>\n",
       "      <td>wt_7d_abeta</td>\n",
       "      <td>1201</td>\n",
       "      <td>873</td>\n",
       "      <td>721</td>\n",
       "      <td>416</td>\n",
       "      <td>290</td>\n",
       "      <td>677</td>\n",
       "      <td>382</td>\n",
       "      <td>313</td>\n",
       "      <td>254</td>\n",
       "      <td>152</td>\n",
       "    </tr>\n",
       "    <tr>\n",
       "      <th>4</th>\n",
       "      <td>wt_7d_abeta</td>\n",
       "      <td>1396</td>\n",
       "      <td>1208</td>\n",
       "      <td>390</td>\n",
       "      <td>509</td>\n",
       "      <td>286</td>\n",
       "      <td>282</td>\n",
       "      <td>328</td>\n",
       "      <td>262</td>\n",
       "      <td>159</td>\n",
       "      <td>121</td>\n",
       "    </tr>\n",
       "    <tr>\n",
       "      <th>5</th>\n",
       "      <td>wt_ut</td>\n",
       "      <td>897</td>\n",
       "      <td>708</td>\n",
       "      <td>536</td>\n",
       "      <td>593</td>\n",
       "      <td>227</td>\n",
       "      <td>569</td>\n",
       "      <td>342</td>\n",
       "      <td>225</td>\n",
       "      <td>188</td>\n",
       "      <td>88</td>\n",
       "    </tr>\n",
       "    <tr>\n",
       "      <th>6</th>\n",
       "      <td>wt_ut</td>\n",
       "      <td>1499</td>\n",
       "      <td>1143</td>\n",
       "      <td>365</td>\n",
       "      <td>291</td>\n",
       "      <td>235</td>\n",
       "      <td>368</td>\n",
       "      <td>287</td>\n",
       "      <td>268</td>\n",
       "      <td>179</td>\n",
       "      <td>104</td>\n",
       "    </tr>\n",
       "  </tbody>\n",
       "</table>\n",
       "</div>"
      ],
      "text/plain": [
       "       SampleID  cluster_0  cluster_1  cluster_2  cluster_3  cluster_4  \\\n",
       "0  het_7d_abeta       1660       1732        448        447        499   \n",
       "1        het_ut        958       1046        289        402        231   \n",
       "2        het_ut       1796       1650        394        319        540   \n",
       "3   wt_7d_abeta       1201        873        721        416        290   \n",
       "4   wt_7d_abeta       1396       1208        390        509        286   \n",
       "5         wt_ut        897        708        536        593        227   \n",
       "6         wt_ut       1499       1143        365        291        235   \n",
       "\n",
       "   cluster_5  cluster_6  cluster_7  cluster_8  cluster_9  \n",
       "0         51        195        227         45        124  \n",
       "1         39        100        157         42         58  \n",
       "2         61        204        196         57        109  \n",
       "3        677        382        313        254        152  \n",
       "4        282        328        262        159        121  \n",
       "5        569        342        225        188         88  \n",
       "6        368        287        268        179        104  "
      ]
     },
     "execution_count": 8,
     "metadata": {},
     "output_type": "execute_result"
    }
   ],
   "source": [
    "# Define a function to process each string\n",
    "def process_string(string):\n",
    "    parts = string.split('_')[:-2]  # Keep all parts except the second-to-last and last\n",
    "    return '_'.join(parts)\n",
    "\n",
    "# Apply the function to each string in the DataFrame\n",
    "cell_counts['SampleID'] = cell_counts['SampleID'].apply(process_string)\n",
    "cell_counts"
   ]
  },
  {
   "cell_type": "code",
   "execution_count": 9,
   "metadata": {},
   "outputs": [
    {
     "name": "stdout",
     "output_type": "stream",
     "text": [
      "AnnData object with n_obs × n_vars = 7 × 10\n",
      "    obs: 'SampleID'\n"
     ]
    }
   ],
   "source": [
    "# Convert data to anndata object\n",
    "data_all = dat.from_pandas(cell_counts, covariate_columns=[\"SampleID\"])\n",
    "\n",
    "print(data_all)"
   ]
  },
  {
   "cell_type": "code",
   "execution_count": 10,
   "metadata": {},
   "outputs": [
    {
     "data": {
      "image/png": "[encoded data removed]",
      "text/plain": [
       "<Figure size 640x480 with 1 Axes>"
      ]
     },
     "metadata": {},
     "output_type": "display_data"
    }
   ],
   "source": [
    "viz.boxplots(data_all, feature_name=\"SampleID\")\n",
    "plt.show()"
   ]
  },
  {
   "cell_type": "code",
   "execution_count": 11,
   "metadata": {},
   "outputs": [
    {
     "data": {
      "image/png": "[encoded data removed]",
      "text/plain": [
       "<Figure size 640x480 with 1 Axes>"
      ]
     },
     "metadata": {},
     "output_type": "display_data"
    },
    {
     "data": {
      "image/png": "[encoded data removed]",
      "text/plain": [
       "<Figure size 640x480 with 1 Axes>"
      ]
     },
     "metadata": {},
     "output_type": "display_data"
    }
   ],
   "source": [
    "# Stacked barplot for each sample\n",
    "viz.stacked_barplot(data_all, feature_name=\"samples\")\n",
    "plt.show()\n",
    "\n",
    "# Stacked barplot for the levels of \"Condition\"\n",
    "viz.stacked_barplot(data_all, feature_name=\"SampleID\")\n",
    "plt.show()"
   ]
  },
  {
   "cell_type": "code",
   "execution_count": 12,
   "metadata": {},
   "outputs": [
    {
     "name": "stderr",
     "output_type": "stream",
     "text": [
      "WARNING: All log messages before absl::InitializeLog() is called are written to STDERR\n",
      "I0000 00:00:1712000429.607107 45589307 service.cc:145] XLA service 0x29524e470 initialized for platform Host (this does not guarantee that XLA will be used). Devices:\n",
      "I0000 00:00:1712000429.607699 45589307 service.cc:153]   StreamExecutor device (0): Host, Default Version\n",
      "  0%|          | 0/20000 [00:00<?, ?it/s]2024-04-01 12:40:29.764553: I tensorflow/compiler/mlir/tensorflow/utils/dump_mlir_util.cc:268] disabling MLIR crash reproducer, set env var `MLIR_CRASH_REPRODUCER_DIRECTORY` to enable.\n",
      "I0000 00:00:1712000430.248638 45589307 device_compiler.h:188] Compiled cluster using XLA!  This line is logged at most once for the lifetime of the process.\n",
      "100%|██████████| 20000/20000 [00:33<00:00, 597.73it/s]\n"
     ]
    },
    {
     "name": "stdout",
     "output_type": "stream",
     "text": [
      "MCMC sampling finished. (42.752 sec)\n",
      "Acceptance rate: 77.3%\n",
      "Compositional Analysis summary:\n",
      "\n",
      "Data: 7 samples, 10 cell types\n",
      "Reference index: 1\n",
      "Formula: SampleID\n",
      "\n",
      "Intercepts:\n",
      "           Final Parameter  Expected Sample\n",
      "Cell Type                                  \n",
      "cluster_0            3.522      1415.585028\n",
      "cluster_1            3.390      1240.535192\n",
      "cluster_2            2.425       472.623067\n",
      "cluster_3            2.385       454.091251\n",
      "cluster_4            2.154       360.430147\n",
      "cluster_5            0.866        99.414519\n",
      "cluster_6            1.776       246.977730\n",
      "cluster_7            1.812       256.030908\n",
      "cluster_8            0.893       102.135276\n",
      "cluster_9            1.093       124.748308\n",
      "\n",
      "\n",
      "Effects:\n",
      "                                   Final Parameter  Expected Sample  \\\n",
      "Covariate               Cell Type                                     \n",
      "SampleID[T.het_ut]      cluster_0         0.000000      1415.585028   \n",
      "                        cluster_1         0.000000      1240.535192   \n",
      "                        cluster_2         0.000000       472.623067   \n",
      "                        cluster_3         0.000000       454.091251   \n",
      "                        cluster_4         0.000000       360.430147   \n",
      "                        cluster_5         0.000000        99.414519   \n",
      "                        cluster_6         0.000000       246.977730   \n",
      "                        cluster_7         0.000000       256.030908   \n",
      "                        cluster_8         0.000000       102.135276   \n",
      "                        cluster_9         0.000000       124.748308   \n",
      "SampleID[T.wt_7d_abeta] cluster_0         0.000000      1332.605187   \n",
      "                        cluster_1         0.000000      1167.816556   \n",
      "                        cluster_2         0.000000       444.918488   \n",
      "                        cluster_3         0.000000       427.472985   \n",
      "                        cluster_4         0.000000       339.302179   \n",
      "                        cluster_5         1.383623       373.349188   \n",
      "                        cluster_6         0.000000       232.500202   \n",
      "                        cluster_7         0.000000       241.022693   \n",
      "                        cluster_8         0.000000        96.148233   \n",
      "                        cluster_9         0.000000       117.435717   \n",
      "SampleID[T.wt_ut]       cluster_0         0.000000      1305.890699   \n",
      "                        cluster_1         0.000000      1144.405554   \n",
      "                        cluster_2         0.000000       435.999290   \n",
      "                        cluster_3         0.000000       418.903513   \n",
      "                        cluster_4         0.000000       332.500251   \n",
      "                        cluster_5         1.615927       461.539580   \n",
      "                        cluster_6         0.000000       227.839313   \n",
      "                        cluster_7         0.000000       236.190956   \n",
      "                        cluster_8         0.000000        94.220767   \n",
      "                        cluster_9         0.000000       115.081505   \n",
      "\n",
      "                                   log2-fold change  \n",
      "Covariate               Cell Type                    \n",
      "SampleID[T.het_ut]      cluster_0          0.000000  \n",
      "                        cluster_1          0.000000  \n",
      "                        cluster_2          0.000000  \n",
      "                        cluster_3          0.000000  \n",
      "                        cluster_4          0.000000  \n",
      "                        cluster_5          0.000000  \n",
      "                        cluster_6          0.000000  \n",
      "                        cluster_7          0.000000  \n",
      "                        cluster_8          0.000000  \n",
      "                        cluster_9          0.000000  \n",
      "SampleID[T.wt_7d_abeta] cluster_0         -0.087149  \n",
      "                        cluster_1         -0.087149  \n",
      "                        cluster_2         -0.087149  \n",
      "                        cluster_3         -0.087149  \n",
      "                        cluster_4         -0.087149  \n",
      "                        cluster_5          1.908997  \n",
      "                        cluster_6         -0.087149  \n",
      "                        cluster_7         -0.087149  \n",
      "                        cluster_8         -0.087149  \n",
      "                        cluster_9         -0.087149  \n",
      "SampleID[T.wt_ut]       cluster_0         -0.116364  \n",
      "                        cluster_1         -0.116364  \n",
      "                        cluster_2         -0.116364  \n",
      "                        cluster_3         -0.116364  \n",
      "                        cluster_4         -0.116364  \n",
      "                        cluster_5          2.214926  \n",
      "                        cluster_6         -0.116364  \n",
      "                        cluster_7         -0.116364  \n",
      "                        cluster_8         -0.116364  \n",
      "                        cluster_9         -0.116364  \n"
     ]
    }
   ],
   "source": [
    "# model all conditions at once\n",
    "model_all = mod.CompositionalAnalysis(data_all, formula=\"SampleID\", reference_cell_type=\"cluster_1\")\n",
    "all_results = model_all.sample_hmc()\n",
    "all_results.summary()"
   ]
  },
  {
   "cell_type": "code",
   "execution_count": 13,
   "metadata": {},
   "outputs": [
    {
     "data": {
      "image/png": "[encoded data removed]",
      "text/plain": [
       "<Figure size 640x480 with 1 Axes>"
      ]
     },
     "metadata": {},
     "output_type": "display_data"
    }
   ],
   "source": [
    "viz.rel_abundance_dispersion_plot(\n",
    "    data=data_all,\n",
    "    abundant_threshold=0.9\n",
    ")\n",
    "plt.show()"
   ]
  },
  {
   "cell_type": "code",
   "execution_count": 14,
   "metadata": {},
   "outputs": [
    {
     "name": "stderr",
     "output_type": "stream",
     "text": [
      "100%|██████████| 20000/20000 [00:33<00:00, 599.45it/s]\n"
     ]
    },
    {
     "name": "stdout",
     "output_type": "stream",
     "text": [
      "MCMC sampling finished. (42.680 sec)\n",
      "Acceptance rate: 58.1%\n",
      "Compositional Analysis summary:\n",
      "\n",
      "Data: 7 samples, 10 cell types\n",
      "Reference index: 6\n",
      "Formula: C(SampleID, Treatment('wt_ut'))\n",
      "\n",
      "Intercepts:\n",
      "           Final Parameter  Expected Sample\n",
      "Cell Type                                  \n",
      "cluster_0            3.533      1286.269237\n",
      "cluster_1            3.308      1027.106848\n",
      "cluster_2            2.550       481.305038\n",
      "cluster_3            2.502       458.748093\n",
      "cluster_4            2.088       303.232926\n",
      "cluster_5            2.351       394.453492\n",
      "cluster_6            2.001       277.966678\n",
      "cluster_7            1.951       264.410083\n",
      "cluster_8            1.410       153.930506\n",
      "cluster_9            1.203       125.148526\n",
      "\n",
      "\n",
      "Effects:\n",
      "                                                           Final Parameter  \\\n",
      "Covariate                                       Cell Type                    \n",
      "C(SampleID, Treatment('wt_ut'))[T.het_7d_abeta] cluster_0         0.000000   \n",
      "                                                cluster_1         0.000000   \n",
      "                                                cluster_2         0.000000   \n",
      "                                                cluster_3         0.000000   \n",
      "                                                cluster_4         0.000000   \n",
      "                                                cluster_5        -1.491747   \n",
      "                                                cluster_6         0.000000   \n",
      "                                                cluster_7         0.000000   \n",
      "                                                cluster_8         0.000000   \n",
      "                                                cluster_9         0.000000   \n",
      "C(SampleID, Treatment('wt_ut'))[T.het_ut]       cluster_0         0.000000   \n",
      "                                                cluster_1         0.606344   \n",
      "                                                cluster_2         0.000000   \n",
      "                                                cluster_3         0.000000   \n",
      "                                                cluster_4         0.000000   \n",
      "                                                cluster_5        -1.297670   \n",
      "                                                cluster_6         0.000000   \n",
      "                                                cluster_7         0.000000   \n",
      "                                                cluster_8         0.000000   \n",
      "                                                cluster_9         0.000000   \n",
      "C(SampleID, Treatment('wt_ut'))[T.wt_7d_abeta]  cluster_0         0.000000   \n",
      "                                                cluster_1         0.000000   \n",
      "                                                cluster_2         0.000000   \n",
      "                                                cluster_3         0.000000   \n",
      "                                                cluster_4         0.000000   \n",
      "                                                cluster_5         0.000000   \n",
      "                                                cluster_6         0.000000   \n",
      "                                                cluster_7         0.000000   \n",
      "                                                cluster_8         0.000000   \n",
      "                                                cluster_9         0.000000   \n",
      "\n",
      "                                                           Expected Sample  \\\n",
      "Covariate                                       Cell Type                    \n",
      "C(SampleID, Treatment('wt_ut'))[T.het_7d_abeta] cluster_0      1374.300806   \n",
      "                                                cluster_1      1097.401483   \n",
      "                                                cluster_2       514.245293   \n",
      "                                                cluster_3       490.144564   \n",
      "                                                cluster_4       323.986023   \n",
      "                                                cluster_5        94.817477   \n",
      "                                                cluster_6       296.990567   \n",
      "                                                cluster_7       282.506166   \n",
      "                                                cluster_8       164.465427   \n",
      "                                                cluster_9       133.713624   \n",
      "C(SampleID, Treatment('wt_ut'))[T.het_ut]       cluster_0      1149.120382   \n",
      "                                                cluster_1      1682.600103   \n",
      "                                                cluster_2       429.985739   \n",
      "                                                cluster_3       409.833936   \n",
      "                                                cluster_4       270.900621   \n",
      "                                                cluster_5        96.262832   \n",
      "                                                cluster_6       248.328395   \n",
      "                                                cluster_7       236.217276   \n",
      "                                                cluster_8       137.517618   \n",
      "                                                cluster_9       111.804526   \n",
      "C(SampleID, Treatment('wt_ut'))[T.wt_7d_abeta]  cluster_0      1286.269237   \n",
      "                                                cluster_1      1027.106848   \n",
      "                                                cluster_2       481.305038   \n",
      "                                                cluster_3       458.748093   \n",
      "                                                cluster_4       303.232926   \n",
      "                                                cluster_5       394.453492   \n",
      "                                                cluster_6       277.966678   \n",
      "                                                cluster_7       264.410083   \n",
      "                                                cluster_8       153.930506   \n",
      "                                                cluster_9       125.148526   \n",
      "\n",
      "                                                           log2-fold change  \n",
      "Covariate                                       Cell Type                    \n",
      "C(SampleID, Treatment('wt_ut'))[T.het_7d_abeta] cluster_0          0.095505  \n",
      "                                                cluster_1          0.095505  \n",
      "                                                cluster_2          0.095505  \n",
      "                                                cluster_3          0.095505  \n",
      "                                                cluster_4          0.095505  \n",
      "                                                cluster_5         -2.056630  \n",
      "                                                cluster_6          0.095505  \n",
      "                                                cluster_7          0.095505  \n",
      "                                                cluster_8          0.095505  \n",
      "                                                cluster_9          0.095505  \n",
      "C(SampleID, Treatment('wt_ut'))[T.het_ut]       cluster_0         -0.162663  \n",
      "                                                cluster_1          0.712106  \n",
      "                                                cluster_2         -0.162663  \n",
      "                                                cluster_3         -0.162663  \n",
      "                                                cluster_4         -0.162663  \n",
      "                                                cluster_5         -2.034804  \n",
      "                                                cluster_6         -0.162663  \n",
      "                                                cluster_7         -0.162663  \n",
      "                                                cluster_8         -0.162663  \n",
      "                                                cluster_9         -0.162663  \n",
      "C(SampleID, Treatment('wt_ut'))[T.wt_7d_abeta]  cluster_0          0.000000  \n",
      "                                                cluster_1          0.000000  \n",
      "                                                cluster_2          0.000000  \n",
      "                                                cluster_3          0.000000  \n",
      "                                                cluster_4          0.000000  \n",
      "                                                cluster_5          0.000000  \n",
      "                                                cluster_6          0.000000  \n",
      "                                                cluster_7          0.000000  \n",
      "                                                cluster_8          0.000000  \n",
      "                                                cluster_9          0.000000  \n"
     ]
    }
   ],
   "source": [
    "# Set wt_ut as \"default\" category\n",
    "\n",
    "model_all = mod.CompositionalAnalysis(data_all, formula=\"C(SampleID, Treatment('wt_ut'))\", reference_cell_type=\"cluster_6\")\n",
    "all_results = model_all.sample_hmc()\n",
    "all_results.summary()"
   ]
  },
  {
   "cell_type": "markdown",
   "metadata": {},
   "source": [
    "Comparing wildtype to Het (untreated)"
   ]
  },
  {
   "cell_type": "code",
   "execution_count": 15,
   "metadata": {},
   "outputs": [
    {
     "name": "stdout",
     "output_type": "stream",
     "text": [
      "  SampleID\n",
      "1   het_ut\n",
      "2   het_ut\n",
      "5    wt_ut\n",
      "6    wt_ut\n"
     ]
    }
   ],
   "source": [
    "# Select wt_ut and het_ut data\n",
    "data_ut = data_all[data_all.obs[\"SampleID\"].isin([\"wt_ut\", \"het_ut\"])]\n",
    "print(data_ut.obs)"
   ]
  },
  {
   "cell_type": "code",
   "execution_count": 16,
   "metadata": {},
   "outputs": [
    {
     "name": "stdout",
     "output_type": "stream",
     "text": [
      "Reference: cluster_0\n"
     ]
    },
    {
     "name": "stderr",
     "output_type": "stream",
     "text": [
      "100%|██████████| 20000/20000 [00:33<00:00, 596.28it/s]\n"
     ]
    },
    {
     "name": "stdout",
     "output_type": "stream",
     "text": [
      "MCMC sampling finished. (42.705 sec)\n",
      "Acceptance rate: 61.2%\n",
      "Reference: cluster_1\n"
     ]
    },
    {
     "name": "stderr",
     "output_type": "stream",
     "text": [
      "100%|██████████| 20000/20000 [00:33<00:00, 605.44it/s]\n"
     ]
    },
    {
     "name": "stdout",
     "output_type": "stream",
     "text": [
      "MCMC sampling finished. (42.083 sec)\n",
      "Acceptance rate: 58.5%\n",
      "Reference: cluster_2\n"
     ]
    },
    {
     "name": "stderr",
     "output_type": "stream",
     "text": [
      "100%|██████████| 20000/20000 [00:32<00:00, 614.98it/s]\n"
     ]
    },
    {
     "name": "stdout",
     "output_type": "stream",
     "text": [
      "WARNING:tensorflow:5 out of the last 5 calls to <function CompositionalModel.sampling.<locals>.sample_mcmc at 0x2f87b5280> triggered tf.function retracing. Tracing is expensive and the excessive number of tracings could be due to (1) creating @tf.function repeatedly in a loop, (2) passing tensors with different shapes, (3) passing Python objects instead of tensors. For (1), please define your @tf.function outside of the loop. For (2), @tf.function has reduce_retracing=True option that can avoid unnecessary retracing. For (3), please refer to https://www.tensorflow.org/guide/function#controlling_retracing and https://www.tensorflow.org/api_docs/python/tf/function for  more details.\n",
      "MCMC sampling finished. (41.400 sec)\n",
      "Acceptance rate: 59.5%\n",
      "Reference: cluster_3\n"
     ]
    },
    {
     "name": "stderr",
     "output_type": "stream",
     "text": [
      "100%|██████████| 20000/20000 [00:31<00:00, 625.77it/s]\n"
     ]
    },
    {
     "name": "stdout",
     "output_type": "stream",
     "text": [
      "WARNING:tensorflow:6 out of the last 6 calls to <function CompositionalModel.sampling.<locals>.sample_mcmc at 0x30ec10f70> triggered tf.function retracing. Tracing is expensive and the excessive number of tracings could be due to (1) creating @tf.function repeatedly in a loop, (2) passing tensors with different shapes, (3) passing Python objects instead of tensors. For (1), please define your @tf.function outside of the loop. For (2), @tf.function has reduce_retracing=True option that can avoid unnecessary retracing. For (3), please refer to https://www.tensorflow.org/guide/function#controlling_retracing and https://www.tensorflow.org/api_docs/python/tf/function for  more details.\n",
      "MCMC sampling finished. (40.653 sec)\n",
      "Acceptance rate: 57.4%\n",
      "Reference: cluster_4\n"
     ]
    },
    {
     "name": "stderr",
     "output_type": "stream",
     "text": [
      "100%|██████████| 20000/20000 [00:31<00:00, 634.34it/s]\n"
     ]
    },
    {
     "name": "stdout",
     "output_type": "stream",
     "text": [
      "MCMC sampling finished. (40.124 sec)\n",
      "Acceptance rate: 60.5%\n",
      "Reference: cluster_5\n"
     ]
    },
    {
     "name": "stderr",
     "output_type": "stream",
     "text": [
      "100%|██████████| 20000/20000 [00:31<00:00, 633.93it/s]\n"
     ]
    },
    {
     "name": "stdout",
     "output_type": "stream",
     "text": [
      "MCMC sampling finished. (40.230 sec)\n",
      "Acceptance rate: 47.6%\n",
      "Reference: cluster_6\n"
     ]
    },
    {
     "name": "stderr",
     "output_type": "stream",
     "text": [
      "100%|██████████| 20000/20000 [00:31<00:00, 629.58it/s]\n"
     ]
    },
    {
     "name": "stdout",
     "output_type": "stream",
     "text": [
      "MCMC sampling finished. (40.398 sec)\n",
      "Acceptance rate: 56.8%\n",
      "Reference: cluster_7\n"
     ]
    },
    {
     "name": "stderr",
     "output_type": "stream",
     "text": [
      "100%|██████████| 20000/20000 [00:32<00:00, 624.46it/s]\n"
     ]
    },
    {
     "name": "stdout",
     "output_type": "stream",
     "text": [
      "MCMC sampling finished. (40.675 sec)\n",
      "Acceptance rate: 55.2%\n",
      "Reference: cluster_8\n"
     ]
    },
    {
     "name": "stderr",
     "output_type": "stream",
     "text": [
      "100%|██████████| 20000/20000 [00:32<00:00, 624.01it/s]\n"
     ]
    },
    {
     "name": "stdout",
     "output_type": "stream",
     "text": [
      "MCMC sampling finished. (40.854 sec)\n",
      "Acceptance rate: 52.9%\n",
      "Reference: cluster_9\n"
     ]
    },
    {
     "name": "stderr",
     "output_type": "stream",
     "text": [
      "100%|██████████| 20000/20000 [00:31<00:00, 630.91it/s]\n"
     ]
    },
    {
     "name": "stdout",
     "output_type": "stream",
     "text": [
      "MCMC sampling finished. (40.357 sec)\n",
      "Acceptance rate: 58.3%\n"
     ]
    }
   ],
   "source": [
    "# Run scCODA with each cell type as the reference\n",
    "cell_types = data_ut.var.index\n",
    "results_cycle = pd.DataFrame(index=cell_types, columns=[\"times_credible\"]).fillna(0)\n",
    "\n",
    "for ct in cell_types:\n",
    "    print(f\"Reference: {ct}\")\n",
    "\n",
    "    # Run inference\n",
    "    model_temp = mod.CompositionalAnalysis(data_ut, formula=\"C(SampleID, Treatment('wt_ut'))\", reference_cell_type=ct)\n",
    "    temp_results = model_temp.sample_hmc(num_results=20000)\n",
    "\n",
    "    # Select credible effects\n",
    "    cred_eff = temp_results.credible_effects()\n",
    "    cred_eff.index = cred_eff.index.droplevel(level=0)\n",
    "\n",
    "    # add up credible effects\n",
    "    results_cycle[\"times_credible\"] += cred_eff.astype(\"int\")"
   ]
  },
  {
   "cell_type": "code",
   "execution_count": 17,
   "metadata": {},
   "outputs": [
    {
     "name": "stdout",
     "output_type": "stream",
     "text": [
      "           times_credible  pct_credible  is_credible\n",
      "cluster_0               0           0.0        False\n",
      "cluster_1               0           0.0        False\n",
      "cluster_2               0           0.0        False\n",
      "cluster_3               0           0.0        False\n",
      "cluster_4               0           0.0        False\n",
      "cluster_5               9           0.9         True\n",
      "cluster_6               0           0.0        False\n",
      "cluster_7               0           0.0        False\n",
      "cluster_8               0           0.0        False\n",
      "cluster_9               0           0.0        False\n"
     ]
    }
   ],
   "source": [
    "# Calculate percentages\n",
    "results_cycle[\"pct_credible\"] = results_cycle[\"times_credible\"]/len(cell_types)\n",
    "results_cycle[\"is_credible\"] = results_cycle[\"pct_credible\"] > 0.5\n",
    "print(results_cycle)"
   ]
  },
  {
   "cell_type": "markdown",
   "metadata": {},
   "source": [
    "Comparing wildtype untreated to wildtype 7day abeta"
   ]
  },
  {
   "cell_type": "code",
   "execution_count": 18,
   "metadata": {},
   "outputs": [
    {
     "name": "stdout",
     "output_type": "stream",
     "text": [
      "      SampleID\n",
      "3  wt_7d_abeta\n",
      "4  wt_7d_abeta\n",
      "5        wt_ut\n",
      "6        wt_ut\n"
     ]
    }
   ],
   "source": [
    "# Select wt_ut and het_ut data\n",
    "data_ut = data_all[data_all.obs[\"SampleID\"].isin([\"wt_ut\", \"wt_7d_abeta\"])]\n",
    "print(data_ut.obs)"
   ]
  },
  {
   "cell_type": "code",
   "execution_count": 19,
   "metadata": {},
   "outputs": [
    {
     "name": "stdout",
     "output_type": "stream",
     "text": [
      "Reference: cluster_0\n"
     ]
    },
    {
     "name": "stderr",
     "output_type": "stream",
     "text": [
      "100%|██████████| 20000/20000 [00:31<00:00, 634.24it/s]\n"
     ]
    },
    {
     "name": "stdout",
     "output_type": "stream",
     "text": [
      "MCMC sampling finished. (40.243 sec)\n",
      "Acceptance rate: 41.3%\n",
      "Reference: cluster_1\n"
     ]
    },
    {
     "name": "stderr",
     "output_type": "stream",
     "text": [
      "100%|██████████| 20000/20000 [00:31<00:00, 636.06it/s]\n"
     ]
    },
    {
     "name": "stdout",
     "output_type": "stream",
     "text": [
      "MCMC sampling finished. (40.075 sec)\n",
      "Acceptance rate: 48.8%\n",
      "Reference: cluster_2\n"
     ]
    },
    {
     "name": "stderr",
     "output_type": "stream",
     "text": [
      "100%|██████████| 20000/20000 [00:31<00:00, 630.00it/s]\n"
     ]
    },
    {
     "name": "stdout",
     "output_type": "stream",
     "text": [
      "MCMC sampling finished. (40.435 sec)\n",
      "Acceptance rate: 43.4%\n",
      "Reference: cluster_3\n"
     ]
    },
    {
     "name": "stderr",
     "output_type": "stream",
     "text": [
      "100%|██████████| 20000/20000 [00:32<00:00, 624.50it/s]\n"
     ]
    },
    {
     "name": "stdout",
     "output_type": "stream",
     "text": [
      "MCMC sampling finished. (40.794 sec)\n",
      "Acceptance rate: 52.1%\n",
      "Reference: cluster_4\n"
     ]
    },
    {
     "name": "stderr",
     "output_type": "stream",
     "text": [
      "100%|██████████| 20000/20000 [00:31<00:00, 626.18it/s]\n"
     ]
    },
    {
     "name": "stdout",
     "output_type": "stream",
     "text": [
      "MCMC sampling finished. (40.621 sec)\n",
      "Acceptance rate: 40.0%\n",
      "Reference: cluster_5\n"
     ]
    },
    {
     "name": "stderr",
     "output_type": "stream",
     "text": [
      "100%|██████████| 20000/20000 [00:31<00:00, 631.21it/s]\n"
     ]
    },
    {
     "name": "stdout",
     "output_type": "stream",
     "text": [
      "MCMC sampling finished. (40.278 sec)\n",
      "Acceptance rate: 42.7%\n",
      "Reference: cluster_6\n"
     ]
    },
    {
     "name": "stderr",
     "output_type": "stream",
     "text": [
      "100%|██████████| 20000/20000 [00:32<00:00, 623.09it/s]\n"
     ]
    },
    {
     "name": "stdout",
     "output_type": "stream",
     "text": [
      "MCMC sampling finished. (40.734 sec)\n",
      "Acceptance rate: 56.0%\n",
      "Reference: cluster_7\n"
     ]
    },
    {
     "name": "stderr",
     "output_type": "stream",
     "text": [
      "100%|██████████| 20000/20000 [00:31<00:00, 628.75it/s]\n"
     ]
    },
    {
     "name": "stdout",
     "output_type": "stream",
     "text": [
      "MCMC sampling finished. (40.595 sec)\n",
      "Acceptance rate: 42.2%\n",
      "Reference: cluster_8\n"
     ]
    },
    {
     "name": "stderr",
     "output_type": "stream",
     "text": [
      "100%|██████████| 20000/20000 [00:31<00:00, 629.04it/s]\n"
     ]
    },
    {
     "name": "stdout",
     "output_type": "stream",
     "text": [
      "MCMC sampling finished. (40.429 sec)\n",
      "Acceptance rate: 58.3%\n",
      "Reference: cluster_9\n"
     ]
    },
    {
     "name": "stderr",
     "output_type": "stream",
     "text": [
      "100%|██████████| 20000/20000 [00:31<00:00, 631.54it/s]\n"
     ]
    },
    {
     "name": "stdout",
     "output_type": "stream",
     "text": [
      "MCMC sampling finished. (40.293 sec)\n",
      "Acceptance rate: 41.9%\n"
     ]
    }
   ],
   "source": [
    "# Run scCODA with each cell type as the reference\n",
    "cell_types = data_ut.var.index\n",
    "results_cycle = pd.DataFrame(index=cell_types, columns=[\"times_credible\"]).fillna(0)\n",
    "\n",
    "for ct in cell_types:\n",
    "    print(f\"Reference: {ct}\")\n",
    "\n",
    "    # Run inference\n",
    "    model_temp = mod.CompositionalAnalysis(data_ut, formula=\"C(SampleID, Treatment('wt_ut'))\", reference_cell_type=ct)\n",
    "    temp_results = model_temp.sample_hmc(num_results=20000)\n",
    "\n",
    "    # Select credible effects\n",
    "    cred_eff = temp_results.credible_effects()\n",
    "    cred_eff.index = cred_eff.index.droplevel(level=0)\n",
    "\n",
    "    # add up credible effects\n",
    "    results_cycle[\"times_credible\"] += cred_eff.astype(\"int\")"
   ]
  },
  {
   "cell_type": "code",
   "execution_count": 20,
   "metadata": {},
   "outputs": [
    {
     "name": "stdout",
     "output_type": "stream",
     "text": [
      "           times_credible  pct_credible  is_credible\n",
      "cluster_0               0           0.0        False\n",
      "cluster_1               0           0.0        False\n",
      "cluster_2               0           0.0        False\n",
      "cluster_3               0           0.0        False\n",
      "cluster_4               0           0.0        False\n",
      "cluster_5               0           0.0        False\n",
      "cluster_6               0           0.0        False\n",
      "cluster_7               0           0.0        False\n",
      "cluster_8               0           0.0        False\n",
      "cluster_9               0           0.0        False\n"
     ]
    }
   ],
   "source": [
    "# Calculate percentages\n",
    "results_cycle[\"pct_credible\"] = results_cycle[\"times_credible\"]/len(cell_types)\n",
    "results_cycle[\"is_credible\"] = results_cycle[\"pct_credible\"] > 0.5\n",
    "print(results_cycle)"
   ]
  }
 ],
 "metadata": {
  "kernelspec": {
   "display_name": "scCODA",
   "language": "python",
   "name": "python3"
  },
  "language_info": {
   "codemirror_mode": {
    "name": "ipython",
    "version": 3
   },
   "file_extension": ".py",
   "mimetype": "text/x-python",
   "name": "python",
   "nbconvert_exporter": "python",
   "pygments_lexer": "ipython3",
   "version": "3.9.18"
  }
 },
 "nbformat": 4,
 "nbformat_minor": 2
}
